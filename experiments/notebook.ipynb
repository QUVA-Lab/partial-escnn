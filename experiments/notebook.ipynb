{
 "cells": [
  {
   "cell_type": "code",
   "execution_count": null,
   "metadata": {},
   "outputs": [],
   "source": [
    "import argparse\n",
    "import os\n",
    "import sys\n",
    "import time\n",
    "import medmnist\n",
    "from medmnist import INFO, Evaluator\n",
    "\n",
    "import matplotlib.pyplot as plt\n",
    "\n",
    "plt.switch_backend(\"agg\")\n",
    "import numpy as np\n",
    "import pandas as pd\n",
    "import seaborn as sn\n",
    "import torch\n",
    "from torch.profiler import profile, record_function, ProfilerActivity\n",
    "\n",
    "import wandb\n",
    "\n",
    "plt.rcParams[\"figure.figsize\"] = (15, 10)\n",
    "\n",
    "import torchvision.transforms.functional as TF\n",
    "from escnn import group, gspaces, nn\n",
    "from sklearn.metrics import confusion_matrix\n",
    "\n",
    "sys.path.append(\"..\")\n",
    "script_dir = os.path.dirname(os.path.abspath(\"/home/lars/Studie/lars_thesis/experiments/eval_model.py\"))\n",
    "# Get the parent directory\n",
    "parent_dir = os.path.dirname(script_dir)\n",
    "# Add the parent directory to PATH\n",
    "sys.path.append(parent_dir)\n",
    "from torch.nn.functional import interpolate\n",
    "from torchvision import datasets, transforms\n",
    "from torchvision.transforms.functional import InterpolationMode\n",
    "\n",
    "from data import MNIST_Double\n",
    "from escnn2.kernels.irreps_mapping import IrrepsMapFourierBLact\n",
    "from escnn2.r2convolution import R2Conv\n",
    "from networks import CNN, SteerableCNN, CNN3D, SteerableCNN3D, SteerableCNN3DResnet\n",
    "# from networks_cnn2 import SteerableCNN3DResnet\n",
    "from util import (\n",
    "    Rotate90Transform,\n",
    "    get_kl_loss,\n",
    "    get_shift_loss,\n",
    "    get_irrepsmaps,\n",
    "    number_of_params,\n",
    "    calc_accuracy,\n",
    "    log_learned_equivariance,\n",
    "    plot_signal\n",
    ")\n",
    "import escnn\n",
    "\n",
    "%load_ext autoreload\n",
    "%autoreload 2\n",
    "\n"
   ]
  },
  {
   "cell_type": "code",
   "execution_count": 9,
   "metadata": {},
   "outputs": [
    {
     "data": {
      "text/plain": [
       "tensor([[-0.4483,  0.0115,  0.4595, -0.6035, -0.5788,  0.1756, -0.0559, -0.0182,\n",
       "          1.0822, -0.8027, -0.2442],\n",
       "        [ 0.9449,  0.6899, -0.3388, -0.0924, -0.0788,  0.2225, -0.2882,  0.2462,\n",
       "         -0.1355,  0.6738, -0.0189]], device='cuda:0',\n",
       "       grad_fn=<ReshapeAliasBackward0>)"
      ]
     },
     "execution_count": 9,
     "metadata": {},
     "output_type": "execute_result"
    }
   ],
   "source": [
    "\n",
    "\n",
    "\n",
    "\n",
    "def make_data_loaders(config):\n",
    "    data_flag = config['dataset']\n",
    "    download = True\n",
    "    info = INFO[data_flag]\n",
    "    task = info[\"task\"]\n",
    "    n_channels = info[\"n_channels\"]\n",
    "    n_classes = len(info[\"label\"])\n",
    "    DataClass = getattr(medmnist, info[\"python_class\"])\n",
    "\n",
    "    if not \"3d\" in config['dataset']:\n",
    "        data_transform = transforms.Compose(\n",
    "            [transforms.ToTensor(), transforms.Normalize(mean=[0.5], std=[0.5])]\n",
    "        )\n",
    "    else:\n",
    "        data_transform = data_transform = transforms.Compose(\n",
    "            [\n",
    "                lambda x: torch.FloatTensor(x),\n",
    "                transforms.Normalize(mean=[0.5], std=[0.5]),\n",
    "            ]\n",
    "        )\n",
    "\n",
    "    # data_transform = lambda x: x\n",
    "\n",
    "    train_dataset = DataClass(\n",
    "        split=\"train\", transform=data_transform, download=download\n",
    "    )\n",
    "    test_dataset = DataClass(split=\"test\", transform=data_transform, download=download)\n",
    "\n",
    "    val_dataset = DataClass(split=\"val\", transform=data_transform, download=download)\n",
    "\n",
    "    train_loader = torch.utils.data.DataLoader(\n",
    "        dataset=train_dataset,\n",
    "        batch_size=32,\n",
    "        shuffle=True,\n",
    "        num_workers=12,\n",
    "    )\n",
    "\n",
    "    test_loader = torch.utils.data.DataLoader(\n",
    "        dataset=test_dataset,\n",
    "        batch_size=48 if \"3d\" in config['dataset'] else 1024,\n",
    "        shuffle=False,\n",
    "        num_workers=12,\n",
    "    )\n",
    "\n",
    "    val_loader = torch.utils.data.DataLoader(\n",
    "        dataset=val_dataset,\n",
    "        batch_size=48 if \"3d\" in config['dataset'] else 1024,\n",
    "        shuffle=False,\n",
    "        num_workers=12,\n",
    "    )\n",
    "\n",
    "    return train_loader, test_loader, val_loader\n",
    "\n",
    "\n",
    "def create_config(args, iteration):\n",
    "    config = dict(\n",
    "        iteration=0,\n",
    "        mnist_type='single',\n",
    "        restrict=False,\n",
    "        group='O3',\n",
    "        learn_eq=False,\n",
    "        fourier_act=\"softmax\",\n",
    "        L_in=2,\n",
    "        L_out=2,\n",
    "        activation=\"GatedNonLinearityUniform\",\n",
    "        one_eq=False,\n",
    "        channels=6,\n",
    "        dataset='organmnist3d',\n",
    "        n_classes=11,\n",
    "        n_channels=1,\n",
    "    )\n",
    "    return config\n",
    "\n",
    "\n",
    "def create_network(config):\n",
    "    if config[\"group\"] == \"CNN\":\n",
    "        cnn = CNN3D if \"3d\" in config['dataset'] else CNN\n",
    "        return cnn(\n",
    "            mnist_type=config.mnist_type,\n",
    "            n_classes=config.n_classes,\n",
    "            n_channels=config.n_channels,\n",
    "            c=config.channels,\n",
    "        ).to(DEVICE)\n",
    "    else:\n",
    "        steerable = SteerableCNN3DResnet if \"3d\" in config[\"dataset\"] else SteerableCNN\n",
    "        return steerable.from_group(\n",
    "            config[\"group\"],\n",
    "            mnist_type=config[\"mnist_type\"],\n",
    "            restrict=config[\"restrict\"],\n",
    "            n_classes=config[\"n_classes\"],\n",
    "            n_channels=config[\"n_channels\"],\n",
    "            basisexpansion=\"blocks\" if not config[\"learn_eq\"] else config[\"learn_eq\"],\n",
    "            one_eq=config[\"one_eq\"],\n",
    "            channels=config[\"channels\"],\n",
    "            iteration=config[\"iteration\"],\n",
    "            L_in=config[\"L_in\"],\n",
    "            L_out=config[\"L_out\"],\n",
    "            invariant=False\n",
    "        ).to(DEVICE)\n",
    "\n",
    "   \n",
    "\n",
    "DEVICE = \"cuda\"\n",
    "USE_AMP = True\n",
    "args = '1'\n",
    "iteration=0\n",
    "config = create_config(args, iteration)\n",
    "model = create_network(config)\n",
    "x = torch.randn(2, 1, 28, 28, 28).to(DEVICE)\n",
    "model(x)\n"
   ]
  },
  {
   "cell_type": "code",
   "execution_count": 10,
   "metadata": {},
   "outputs": [
    {
     "name": "stdout",
     "output_type": "stream",
     "text": [
      "(tensor(0., device='cuda:0', grad_fn=<AddBackward0>), tensor(5.4186e-09, device='cuda:0', grad_fn=<AddBackward0>))\n"
     ]
    }
   ],
   "source": [
    "irrepmaps = get_irrepsmaps(model)\n",
    "print(get_kl_loss(irrepmaps))"
   ]
  },
  {
   "cell_type": "code",
   "execution_count": null,
   "metadata": {},
   "outputs": [],
   "source": []
  },
  {
   "cell_type": "code",
   "execution_count": 11,
   "metadata": {},
   "outputs": [
    {
     "name": "stdout",
     "output_type": "stream",
     "text": [
      "Using downloaded and verified file: /home/lars/.medmnist/organmnist3d.npz\n",
      "Using downloaded and verified file: /home/lars/.medmnist/organmnist3d.npz\n",
      "Using downloaded and verified file: /home/lars/.medmnist/organmnist3d.npz\n"
     ]
    }
   ],
   "source": [
    "_, loader, _ = make_data_loaders(config)"
   ]
  },
  {
   "cell_type": "code",
   "execution_count": 12,
   "metadata": {},
   "outputs": [],
   "source": [
    "import escnn2\n"
   ]
  },
  {
   "cell_type": "code",
   "execution_count": 13,
   "metadata": {},
   "outputs": [
    {
     "name": "stdout",
     "output_type": "stream",
     "text": [
      "218348\n"
     ]
    }
   ],
   "source": [
    "print(number_of_params(model))"
   ]
  },
  {
   "cell_type": "code",
   "execution_count": 14,
   "metadata": {},
   "outputs": [
    {
     "name": "stderr",
     "output_type": "stream",
     "text": [
      "\u001b[34m\u001b[1mwandb\u001b[0m: Downloading large artifact model:v4, 352.81MB. 1 files... \n",
      "\u001b[34m\u001b[1mwandb\u001b[0m:   1 of 1 files downloaded.  \n",
      "Done. 0:0:0.4\n"
     ]
    },
    {
     "name": "stdout",
     "output_type": "stream",
     "text": [
      "{IrrepsMapFourierBLact(\n",
      "  (activation): FourierPointwise()\n",
      "): False, IrrepsMapFourierBLact(\n",
      "  (activation): FourierPointwise()\n",
      "): False, IrrepsMapFourierBLact(\n",
      "  (activation): FourierPointwise()\n",
      "): False, IrrepsMapFourierBLact(\n",
      "  (activation): FourierPointwise()\n",
      "): False, IrrepsMapFourierBLact(\n",
      "  (activation): FourierPointwise()\n",
      "): False, IrrepsMapFourierBLact(\n",
      "  (activation): FourierPointwise()\n",
      "): False, IrrepsMapFourierBLact(\n",
      "  (activation): FourierPointwise()\n",
      "): False, IrrepsMapFourierBLact(\n",
      "  (activation): FourierPointwise()\n",
      "): False, IrrepsMapFourierBLact(\n",
      "  (activation): FourierPointwise()\n",
      "): False, IrrepsMapFourierBLact(\n",
      "  (activation): FourierPointwise()\n",
      "): False, IrrepsMapFourierBLact(\n",
      "  (activation): FourierPointwise()\n",
      "): False, IrrepsMapFourierBLact(\n",
      "  (activation): FourierPointwise()\n",
      "): False, IrrepsMapFourierBLact(\n",
      "  (activation): FourierPointwise()\n",
      "): False, IrrepsMapFourierBLact(\n",
      "  (activation): FourierPointwise()\n",
      "): False, IrrepsMapFourierBLact(\n",
      "  (activation): FourierPointwise()\n",
      "): False, IrrepsMapFourierBLact(\n",
      "  (activation): FourierPointwise()\n",
      "): False, IrrepsMapFourierBLact(\n",
      "  (activation): FourierPointwise()\n",
      "): False, IrrepsMapFourierBLact(\n",
      "  (activation): FourierPointwise()\n",
      "): False, IrrepsMapFourierBLact(\n",
      "  (activation): FourierPointwise()\n",
      "): False, IrrepsMapFourierBLact(\n",
      "  (activation): FourierPointwise()\n",
      "): False, IrrepsMapFourierBLact(\n",
      "  (activation): FourierPointwise()\n",
      "): False, IrrepsMapFourierBLact(\n",
      "  (activation): FourierPointwise()\n",
      "): False, IrrepsMapFourierBLact(\n",
      "  (activation): FourierPointwise()\n",
      "): False, IrrepsMapFourierBLact(\n",
      "  (activation): FourierPointwise()\n",
      "): False, IrrepsMapFourierBLact(\n",
      "  (activation): FourierPointwise()\n",
      "): False}\n"
     ]
    },
    {
     "data": {
      "text/plain": [
       "tensor([[ 0.7209, -0.2821,  0.2718,  1.2761, -0.4557,  1.7078, -1.9619, -2.0750,\n",
       "         -1.5816,  1.2843,  2.7961],\n",
       "        [-0.5466,  1.9611,  0.8635, -2.0192, -0.0713,  1.6514, -1.6421, -1.7941,\n",
       "         -2.3452,  0.1608,  2.1759]], device='cuda:0',\n",
       "       grad_fn=<ReshapeAliasBackward0>)"
      ]
     },
     "execution_count": 14,
     "metadata": {},
     "output_type": "execute_result"
    }
   ],
   "source": [
    "api = wandb.Api()\n",
    "# organ 45, synapse 234, nodule 142\n",
    "artifact = api.artifact(\n",
    "    \"lveefkind/class_specific_distributions/model:v4\", type=\"model\"\n",
    ")\n",
    "artifact_dir = artifact.download()\n",
    "complete_location = artifact.file(artifact_dir)\n",
    "thing = torch.load(complete_location)\n",
    "model.eval()\n",
    "model.load_state_dict(thing[\"model_state_dict\"], strict=False)\n",
    "model = model.to('cuda')\n",
    "irrepmaps = get_irrepsmaps(model)\n",
    "# for irrepmap in irrepmaps:\n",
    "#     escnn2.kernels.irreps_mapping.set_grad_flag.recompute_ft[irrepmap] = True\n",
    "print(escnn2.kernels.irreps_mapping.set_grad_flag.recompute_ft)\n",
    "x = torch.randn(2, 1, 28, 28, 28).to(\"cuda\")\n",
    "model(x)\n",
    "\n",
    "# print(irrepmaps[5].fts_in)\n",
    "# print(irrepmaps[5].fts_out)"
   ]
  },
  {
   "cell_type": "code",
   "execution_count": 15,
   "metadata": {},
   "outputs": [
    {
     "name": "stdout",
     "output_type": "stream",
     "text": [
      "(tensor(0.0292, device='cuda:0', grad_fn=<AddBackward0>), tensor(-0.0060, device='cuda:0', grad_fn=<AddBackward0>))\n"
     ]
    }
   ],
   "source": [
    "irrepmaps = get_irrepsmaps(model)\n",
    "print(get_kl_loss(irrepmaps))"
   ]
  },
  {
   "cell_type": "code",
   "execution_count": 16,
   "metadata": {},
   "outputs": [
    {
     "name": "stdout",
     "output_type": "stream",
     "text": [
      "The autoreload extension is already loaded. To reload it, use:\n",
      "  %reload_ext autoreload\n"
     ]
    }
   ],
   "source": [
    "%load_ext autoreload\n",
    "%autoreload 2"
   ]
  },
  {
   "cell_type": "code",
   "execution_count": 17,
   "metadata": {},
   "outputs": [],
   "source": [
    "sphere_datas = []\n",
    "for irrepmap in irrepmaps:\n",
    "    _, _, sphere_data = irrepmap.get_distribution(n=100, sphere=True)\n",
    "    sphere_datas.append(sphere_data)"
   ]
  },
  {
   "cell_type": "code",
   "execution_count": null,
   "metadata": {},
   "outputs": [],
   "source": [
    "for sphere_data in sphere_data:\n",
    "    print(np.max(sphere_data['f']), np.max(sphere_data['f_id']))\n",
    "    print(np.min(sphere_data['f']), np.min(sphere_data['f_id']))"
   ]
  },
  {
   "cell_type": "code",
   "execution_count": 10,
   "metadata": {},
   "outputs": [
    {
     "name": "stdout",
     "output_type": "stream",
     "text": [
      "[1.0370666 0.9924328]\n",
      "1.0314273\n",
      "[1.0557796 0.9851871]\n",
      "1.0549742\n",
      "[1.0455073  0.97454923]\n",
      "1.0413767\n"
     ]
    }
   ],
   "source": [
    "for layer, sphere_data in enumerate(sphere_datas):\n",
    "    figs = plot_signal(sphere_data, f_max=1.6, f_min=0.7)\n",
    "    print(sphere_data['f_id'])\n",
    "    print(np.max(sphere_data['f']))\n",
    "    for id, fig in enumerate(figs):\n",
    "        # fig.write_html(f'{config[\"dataset\"]}_layer {layer} sphere {id}.html')\n",
    "        fig.write_html(f'organ {layer} likelihood{\"_refl\" if id else \"\"}.html')"
   ]
  },
  {
   "cell_type": "code",
   "execution_count": 11,
   "metadata": {},
   "outputs": [],
   "source": [
    "# figs = plot_signal(sphere_data)"
   ]
  },
  {
   "cell_type": "code",
   "execution_count": 12,
   "metadata": {},
   "outputs": [],
   "source": [
    "from tqdm import tqdm_notebook as tqdm\n",
    "from medmnist import OrganMNIST3D"
   ]
  },
  {
   "cell_type": "code",
   "execution_count": null,
   "metadata": {},
   "outputs": [],
   "source": [
    "def log_equivariance_error2(model, loader, irrepmaps):\n",
    "    dataset = OrganMNIST3D('train')\n",
    "    labels_names = dataset.info['label']\n",
    "    _, _, data = irrepmaps[2].get_distribution(n=2, sphere=True)\n",
    "    # print(data['f'][0])\n",
    "    # figs = plot_signal(data)\n",
    "    # figs[0].show()\n",
    "    # return\n",
    "    model.eval()\n",
    "    eq_layers = [seq for seq in model.layers_eq]\n",
    "    with torch.no_grad():\n",
    "        with torch.autocast(\n",
    "                device_type=DEVICE,\n",
    "                dtype=torch.bfloat16 if DEVICE == \"cpu\" else torch.float16,\n",
    "                enabled=False,\n",
    "            ):\n",
    "                loader = iter(loader)\n",
    "                count = 0\n",
    "                n_classes = 11\n",
    "                imgs_list = []\n",
    "                while count != 2:                 \n",
    "                    nr_unique = 0\n",
    "                    while nr_unique != n_classes:\n",
    "                            imgs, labels = next(loader)\n",
    "                            nr_unique = len(np.unique(labels))\n",
    "                    unique = np.unique(labels, return_index=True)[1]\n",
    "                    # unique = unique[0:2]\n",
    "                    imgs = imgs[unique]\n",
    "                    labels = labels[unique].to(DEVICE)\n",
    "                    imgs = model.in_type(imgs).to(DEVICE)\n",
    "                    preds = model(imgs.tensor)\n",
    "                    acc = (torch.argmax(preds, axis=1) == labels.flatten()).sum() / n_classes\n",
    "                    if acc == 1 :\n",
    "                         count += 1\n",
    "                         imgs_list += [imgs.tensor]\n",
    "                \n",
    "                imgs, labels = 0, 0\n",
    "                x = model.in_type(torch.cat(imgs_list, axis=0))\n",
    "                preds = model(x.tensor)\n",
    "                norm = torch.linalg.norm(preds, axis=1, keepdim=True)\n",
    "                f_id = torch.zeros((x.shape[0], len(data['f_id'])), device=preds.device)\n",
    "                for i in tqdm(range(len(data['grid_id']))):\n",
    "                    elem = data['grid_id'][i]\n",
    "                    x_transform = x.transform(elem)           \n",
    "                    preds_transform = model(x_transform.tensor)\n",
    "                    f_id[:, i] = (torch.linalg.norm(preds_transform - preds, axis=1, keepdim=True)/norm).view(-1)\n",
    "                f_id = f_id.cpu().numpy()\n",
    "\n",
    "                f_id = f_id.reshape(f_id.shape[0] // n_classes, n_classes, -1)\n",
    "                f_id = np.mean(f_id, axis=0)\n",
    "\n",
    "\n",
    "                \n",
    "                f = torch.zeros((x.shape[0], len(data['f'])), device=preds.device)\n",
    "                for i in tqdm(range(len(data['grid']))):\n",
    "                    elem = data['grid'][i]\n",
    "                    x_transform = x.transform(elem)           \n",
    "                    preds_transform = model(x_transform.tensor)\n",
    "                    f[:, i] = (torch.linalg.norm(preds_transform - preds, axis=1, keepdim=True)/norm).view(-1)\n",
    "                f = f.cpu().numpy()\n",
    "\n",
    "                f = f.reshape(f.shape[0] // n_classes, n_classes, -1)\n",
    "                f = np.mean(f, axis=0)\n",
    "\n",
    "                # Fix keyerror due to multiple thingiies\n",
    "\n",
    "                for label in range(f.shape[0]):\n",
    "                    print(labels_names[str(label)])\n",
    "                    max_val = max(np.max(f), np.max(f_id))\n",
    "                    f[label] = 1-(f[label]/max_val)\n",
    "                    f_id[label] = 1-(f_id[label]/max_val)\n",
    "                    data_2 = data\n",
    "                    data_2['f'] = f[label]\n",
    "                    data_2['f_id'] = f_id[label]\n",
    "                    t = f[label]\n",
    "                    figs = plot_signal(data_2, f_max=np.max(f), f_min=np.min(f))\n",
    "                    for i, fig in enumerate(figs):\n",
    "                         fig.write_html(f'{labels_names[str(label)]}{\"_refl\" if i else \"\"}.html')\n"
   ]
  },
  {
   "cell_type": "code",
   "execution_count": null,
   "metadata": {},
   "outputs": [
    {
     "data": {
      "application/vnd.jupyter.widget-view+json": {
       "model_id": "7adc4a92ff4b4b9d9d0e535aa15a2c05",
       "version_major": 2,
       "version_minor": 0
      },
      "text/plain": [
       "  0%|          | 0/2 [00:00<?, ?it/s]"
      ]
     },
     "metadata": {},
     "output_type": "display_data"
    },
    {
     "data": {
      "application/vnd.jupyter.widget-view+json": {
       "model_id": "e542f4849a55493ba6639df12e01a36f",
       "version_major": 2,
       "version_minor": 0
      },
      "text/plain": [
       "  0%|          | 0/32 [00:00<?, ?it/s]"
      ]
     },
     "metadata": {},
     "output_type": "display_data"
    },
    {
     "name": "stdout",
     "output_type": "stream",
     "text": [
      "liver\n"
     ]
    },
    {
     "data": {
      "application/vnd.plotly.v1+json": {
       "config": {
        "plotlyServerURL": "https://plot.ly"
       },
       "data": [
        {
         "cmax": 1,
         "cmin": 0.1791181435585022,
         "colorscale": [
          [
           0,
           "rgb(0,50,255)"
          ],
          [
           0.5,
           "rgb(200,200,200)"
          ],
          [
           1,
           "rgb(255,50,0)"
          ]
         ],
         "name": "Equivariance",
         "opacity": 1,
         "showlegend": true,
         "surfacecolor": [
          [
           1,
           1
          ],
          [
           1,
           1
          ]
         ],
         "type": "surface",
         "x": [
          [
           0,
           -8.746712285808214e-8
          ],
          [
           0,
           3.8233092627220296e-15
          ]
         ],
         "y": [
          [
           0,
           0
          ],
          [
           0,
           -8.746712285808214e-8
          ]
         ],
         "z": [
          [
           1.0005072423606922,
           -1.0005072423606922
          ],
          [
           1.0005072423606922,
           -1.0005072423606922
          ]
         ]
        },
        {
         "line": {
          "color": "purple",
          "width": 10
         },
         "mode": "lines+text",
         "name": "Maximum equivariance",
         "showlegend": true,
         "textfont": {
          "color": "purple",
          "size": 30
         },
         "type": "scatter3d",
         "x": [
          -0.1,
          0.1
         ],
         "y": [
          -0.1,
          0.1
         ],
         "z": [
          -0.1,
          0.1
         ]
        },
        {
         "line": {
          "color": "brown",
          "width": 10
         },
         "mode": "lines+text",
         "name": "Minimum equivariance",
         "showlegend": true,
         "textfont": {
          "color": "brown",
          "size": 30
         },
         "type": "scatter3d",
         "x": [
          -0.1,
          0.1
         ],
         "y": [
          -0.1,
          0.1
         ],
         "z": [
          -0.1,
          0.1
         ]
        },
        {
         "line": {
          "color": "purple",
          "dash": "longdash",
          "width": 10
         },
         "mode": "lines",
         "name": "Maximum equivariance complement",
         "showlegend": true,
         "textfont": {
          "size": 30
         },
         "type": "scatter3d",
         "x": [
          -0.1,
          0.1
         ],
         "y": [
          -0.1,
          0.1
         ],
         "z": [
          -0.1,
          0.1
         ]
        },
        {
         "line": {
          "color": "brown",
          "dash": "longdash",
          "width": 10
         },
         "mode": "lines",
         "name": "Minimum equivariance complement",
         "showlegend": true,
         "textfont": {
          "size": 30
         },
         "type": "scatter3d",
         "x": [
          -0.1,
          0.1
         ],
         "y": [
          -0.1,
          0.1
         ],
         "z": [
          -0.1,
          0.1
         ]
        },
        {
         "line": {
          "color": "black",
          "width": 10
         },
         "mode": "lines+text",
         "name": "x-axis",
         "text": [
          "-x",
          "x"
         ],
         "textfont": {
          "size": 30
         },
         "type": "scatter3d",
         "x": [
          -1.5,
          1.5
         ],
         "y": [
          0,
          0
         ],
         "z": [
          0,
          0
         ]
        },
        {
         "line": {
          "color": "black",
          "width": 10
         },
         "mode": "lines+text",
         "name": "y-axis",
         "text": [
          "-y",
          "y"
         ],
         "textfont": {
          "size": 30
         },
         "type": "scatter3d",
         "x": [
          0,
          0
         ],
         "y": [
          -1.5,
          1.5
         ],
         "z": [
          0,
          0
         ]
        },
        {
         "line": {
          "color": "black",
          "width": 10
         },
         "mode": "lines+text",
         "name": "z-axis",
         "text": [
          "-z",
          "z"
         ],
         "textfont": {
          "size": 30
         },
         "type": "scatter3d",
         "x": [
          0,
          0
         ],
         "y": [
          0,
          0
         ],
         "z": [
          -1.5,
          1.5
         ]
        }
       ],
       "frames": [
        {
         "data": [
          {
           "cmax": 1,
           "cmin": 0.1791181435585022,
           "colorscale": [
            [
             0,
             "rgb(0,50,255)"
            ],
            [
             0.5,
             "rgb(200,200,200)"
            ],
            [
             1,
             "rgb(255,50,0)"
            ]
           ],
           "name": "Equivariance",
           "opacity": 1,
           "showlegend": true,
           "surfacecolor": [
            [
             1,
             1
            ],
            [
             1,
             1
            ]
           ],
           "type": "surface",
           "x": [
            [
             0,
             -8.746712285808214e-8
            ],
            [
             0,
             3.8233092627220296e-15
            ]
           ],
           "y": [
            [
             0,
             0
            ],
            [
             0,
             -8.746712285808214e-8
            ]
           ],
           "z": [
            [
             1.0005072423606922,
             -1.0005072423606922
            ],
            [
             1.0005072423606922,
             -1.0005072423606922
            ]
           ]
          },
          {
           "line": {
            "color": "purple",
            "width": 10
           },
           "mode": "lines+text",
           "name": "Maximum equivariance",
           "showlegend": true,
           "text": [
            "",
            "(0.00, 0.00, 0.00)"
           ],
           "textfont": {
            "color": "purple",
            "size": 30
           },
           "type": "scatter3d",
           "x": [
            0,
            0
           ],
           "y": [
            0,
            0
           ],
           "z": [
            0,
            0
           ]
          },
          {
           "line": {
            "color": "brown",
            "width": 10
           },
           "mode": "lines+text",
           "name": "Minimum equivariance",
           "showlegend": true,
           "text": [
            "",
            "(0.00, 0.00, 0.00)"
           ],
           "textfont": {
            "color": "brown",
            "size": 30
           },
           "type": "scatter3d",
           "x": [
            0,
            0
           ],
           "y": [
            0,
            0
           ],
           "z": [
            0,
            0
           ]
          },
          {
           "line": {
            "color": "purple",
            "dash": "longdash",
            "width": 10
           },
           "mode": "lines+text",
           "name": "Maximum equivariance complement",
           "showlegend": true,
           "text": [
            "",
            "(0.00, 0.00, 0.00)"
           ],
           "textfont": {
            "color": "purple",
            "size": 30
           },
           "type": "scatter3d",
           "x": [
            0,
            0
           ],
           "y": [
            0,
            0
           ],
           "z": [
            0,
            0
           ]
          },
          {
           "line": {
            "color": "brown",
            "dash": "longdash",
            "width": 10
           },
           "mode": "lines+text",
           "name": "Minimum equivariance complement",
           "showlegend": true,
           "text": [
            "",
            "(0.00, 0.00, 0.00)"
           ],
           "textfont": {
            "color": "brown",
            "size": 30
           },
           "type": "scatter3d",
           "x": [
            0,
            0
           ],
           "y": [
            0,
            0
           ],
           "z": [
            0,
            0
           ]
          },
          {
           "line": {
            "color": "black",
            "width": 10
           },
           "mode": "lines+text",
           "name": "x-axis",
           "text": [
            "-x",
            "x"
           ],
           "textfont": {
            "size": 30
           },
           "type": "scatter3d",
           "x": [
            -1.5,
            1.5
           ],
           "y": [
            0,
            0
           ],
           "z": [
            0,
            0
           ]
          },
          {
           "line": {
            "color": "black",
            "width": 10
           },
           "mode": "lines+text",
           "name": "y-axis",
           "text": [
            "-y",
            "y"
           ],
           "textfont": {
            "size": 30
           },
           "type": "scatter3d",
           "x": [
            0,
            0
           ],
           "y": [
            -1.5,
            1.5
           ],
           "z": [
            0,
            0
           ]
          },
          {
           "line": {
            "color": "black",
            "width": 10
           },
           "mode": "lines+text",
           "name": "z-axis",
           "text": [
            "-z",
            "z"
           ],
           "textfont": {
            "size": 30
           },
           "type": "scatter3d",
           "x": [
            0,
            0
           ],
           "y": [
            0,
            0
           ],
           "z": [
            -1.5,
            1.5
           ]
          }
         ],
         "name": "0.00 π"
        },
        {
         "data": [
          {
           "cmax": 1,
           "cmin": 0.1791181435585022,
           "colorscale": [
            [
             0,
             "rgb(0,50,255)"
            ],
            [
             0.5,
             "rgb(200,200,200)"
            ],
            [
             1,
             "rgb(255,50,0)"
            ]
           ],
           "name": "Equivariance",
           "opacity": 1,
           "showlegend": true,
           "surfacecolor": [
            [
             0.6553849577903748,
             0.40686357021331787
            ],
            [
             0.6553849577903748,
             0.40686357021331787
            ]
           ],
           "type": "surface",
           "x": [
            [
             0,
             -8.746712285808214e-8
            ],
            [
             0,
             3.8233092627220296e-15
            ]
           ],
           "y": [
            [
             0,
             0
            ],
            [
             0,
             -8.746712285808214e-8
            ]
           ],
           "z": [
            [
             1.0005072423606922,
             -1.0005072423606922
            ],
            [
             1.0005072423606922,
             -1.0005072423606922
            ]
           ]
          },
          {
           "line": {
            "color": "purple",
            "width": 10
           },
           "mode": "lines+text",
           "name": "Maximum equivariance",
           "showlegend": true,
           "text": [
            "",
            "(0.00, 0.00, 1.00)"
           ],
           "textfont": {
            "color": "purple",
            "size": 30
           },
           "type": "scatter3d",
           "x": [
            0,
            0
           ],
           "y": [
            0,
            0
           ],
           "z": [
            0.900456518124623,
            1.5007608635410383
           ]
          },
          {
           "line": {
            "color": "brown",
            "width": 10
           },
           "mode": "lines+text",
           "name": "Minimum equivariance",
           "showlegend": true,
           "text": [
            "",
            "(-0.00, -0.00, -1.00)"
           ],
           "textfont": {
            "color": "brown",
            "size": 30
           },
           "type": "scatter3d",
           "x": [
            -7.872041057227393e-8,
            -1.312006842871232e-7
           ],
           "y": [
            0,
            0
           ],
           "z": [
            -0.900456518124623,
            -1.5007608635410383
           ]
          },
          {
           "line": {
            "color": "purple",
            "dash": "longdash",
            "width": 10
           },
           "mode": "lines+text",
           "name": "Maximum equivariance complement",
           "showlegend": true,
           "text": [
            "",
            "(0.00, 0.00, 1.00)"
           ],
           "textfont": {
            "color": "purple",
            "size": 30
           },
           "type": "scatter3d",
           "x": [
            0,
            0
           ],
           "y": [
            0,
            0
           ],
           "z": [
            -0.900456518124623,
            -1.5007608635410383
           ]
          },
          {
           "line": {
            "color": "brown",
            "dash": "longdash",
            "width": 10
           },
           "mode": "lines+text",
           "name": "Minimum equivariance complement",
           "showlegend": true,
           "text": [
            "",
            "(-0.00, -0.00, -1.00)"
           ],
           "textfont": {
            "color": "brown",
            "size": 30
           },
           "type": "scatter3d",
           "x": [
            7.872041057227393e-8,
            1.312006842871232e-7
           ],
           "y": [
            0,
            0
           ],
           "z": [
            0.900456518124623,
            1.5007608635410383
           ]
          },
          {
           "line": {
            "color": "black",
            "width": 10
           },
           "mode": "lines+text",
           "name": "x-axis",
           "text": [
            "-x",
            "x"
           ],
           "textfont": {
            "size": 30
           },
           "type": "scatter3d",
           "x": [
            -1.5,
            1.5
           ],
           "y": [
            0,
            0
           ],
           "z": [
            0,
            0
           ]
          },
          {
           "line": {
            "color": "black",
            "width": 10
           },
           "mode": "lines+text",
           "name": "y-axis",
           "text": [
            "-y",
            "y"
           ],
           "textfont": {
            "size": 30
           },
           "type": "scatter3d",
           "x": [
            0,
            0
           ],
           "y": [
            -1.5,
            1.5
           ],
           "z": [
            0,
            0
           ]
          },
          {
           "line": {
            "color": "black",
            "width": 10
           },
           "mode": "lines+text",
           "name": "z-axis",
           "text": [
            "-z",
            "z"
           ],
           "textfont": {
            "size": 30
           },
           "type": "scatter3d",
           "x": [
            0,
            0
           ],
           "y": [
            0,
            0
           ],
           "z": [
            -1.5,
            1.5
           ]
          }
         ],
         "name": "0.25 π"
        },
        {
         "data": [
          {
           "cmax": 1,
           "cmin": 0.1791181435585022,
           "colorscale": [
            [
             0,
             "rgb(0,50,255)"
            ],
            [
             0.5,
             "rgb(200,200,200)"
            ],
            [
             1,
             "rgb(255,50,0)"
            ]
           ],
           "name": "Equivariance",
           "opacity": 1,
           "showlegend": true,
           "surfacecolor": [
            [
             0.6138792634010315,
             0.30011415481567383
            ],
            [
             0.6138792634010315,
             0.2975420355796814
            ]
           ],
           "type": "surface",
           "x": [
            [
             0,
             -8.746712285808214e-8
            ],
            [
             0,
             3.8233092627220296e-15
            ]
           ],
           "y": [
            [
             0,
             0
            ],
            [
             0,
             -8.746712285808214e-8
            ]
           ],
           "z": [
            [
             1.0005072423606922,
             -1.0005072423606922
            ],
            [
             1.0005072423606922,
             -1.0005072423606922
            ]
           ]
          },
          {
           "line": {
            "color": "purple",
            "width": 10
           },
           "mode": "lines+text",
           "name": "Maximum equivariance",
           "showlegend": true,
           "text": [
            "",
            "(0.00, 0.00, 1.00)"
           ],
           "textfont": {
            "color": "purple",
            "size": 30
           },
           "type": "scatter3d",
           "x": [
            0,
            0
           ],
           "y": [
            0,
            0
           ],
           "z": [
            0.900456518124623,
            1.5007608635410383
           ]
          },
          {
           "line": {
            "color": "brown",
            "width": 10
           },
           "mode": "lines+text",
           "name": "Minimum equivariance",
           "showlegend": true,
           "text": [
            "",
            "(0.00, -0.00, -1.00)"
           ],
           "textfont": {
            "color": "brown",
            "size": 30
           },
           "type": "scatter3d",
           "x": [
            3.4409783364498266e-15,
            5.734963894083044e-15
           ],
           "y": [
            -7.872041057227393e-8,
            -1.312006842871232e-7
           ],
           "z": [
            -0.900456518124623,
            -1.5007608635410383
           ]
          },
          {
           "line": {
            "color": "purple",
            "dash": "longdash",
            "width": 10
           },
           "mode": "lines+text",
           "name": "Maximum equivariance complement",
           "showlegend": true,
           "text": [
            "",
            "(0.00, 0.00, 1.00)"
           ],
           "textfont": {
            "color": "purple",
            "size": 30
           },
           "type": "scatter3d",
           "x": [
            0,
            0
           ],
           "y": [
            0,
            0
           ],
           "z": [
            -0.900456518124623,
            -1.5007608635410383
           ]
          },
          {
           "line": {
            "color": "brown",
            "dash": "longdash",
            "width": 10
           },
           "mode": "lines+text",
           "name": "Minimum equivariance complement",
           "showlegend": true,
           "text": [
            "",
            "(0.00, -0.00, -1.00)"
           ],
           "textfont": {
            "color": "brown",
            "size": 30
           },
           "type": "scatter3d",
           "x": [
            -3.4409783364498266e-15,
            -5.734963894083044e-15
           ],
           "y": [
            7.872041057227393e-8,
            1.312006842871232e-7
           ],
           "z": [
            0.900456518124623,
            1.5007608635410383
           ]
          },
          {
           "line": {
            "color": "black",
            "width": 10
           },
           "mode": "lines+text",
           "name": "x-axis",
           "text": [
            "-x",
            "x"
           ],
           "textfont": {
            "size": 30
           },
           "type": "scatter3d",
           "x": [
            -1.5,
            1.5
           ],
           "y": [
            0,
            0
           ],
           "z": [
            0,
            0
           ]
          },
          {
           "line": {
            "color": "black",
            "width": 10
           },
           "mode": "lines+text",
           "name": "y-axis",
           "text": [
            "-y",
            "y"
           ],
           "textfont": {
            "size": 30
           },
           "type": "scatter3d",
           "x": [
            0,
            0
           ],
           "y": [
            -1.5,
            1.5
           ],
           "z": [
            0,
            0
           ]
          },
          {
           "line": {
            "color": "black",
            "width": 10
           },
           "mode": "lines+text",
           "name": "z-axis",
           "text": [
            "-z",
            "z"
           ],
           "textfont": {
            "size": 30
           },
           "type": "scatter3d",
           "x": [
            0,
            0
           ],
           "y": [
            0,
            0
           ],
           "z": [
            -1.5,
            1.5
           ]
          }
         ],
         "name": "0.50 π"
        },
        {
         "data": [
          {
           "cmax": 1,
           "cmin": 0.1791181435585022,
           "colorscale": [
            [
             0,
             "rgb(0,50,255)"
            ],
            [
             0.5,
             "rgb(200,200,200)"
            ],
            [
             1,
             "rgb(255,50,0)"
            ]
           ],
           "name": "Equivariance",
           "opacity": 1,
           "showlegend": true,
           "surfacecolor": [
            [
             0.5376187562942505,
             0.24454408884048462
            ],
            [
             0.5376187562942505,
             0.24922144412994385
            ]
           ],
           "type": "surface",
           "x": [
            [
             0,
             -8.746712285808214e-8
            ],
            [
             0,
             3.8233092627220296e-15
            ]
           ],
           "y": [
            [
             0,
             0
            ],
            [
             0,
             -8.746712285808214e-8
            ]
           ],
           "z": [
            [
             1.0005072423606922,
             -1.0005072423606922
            ],
            [
             1.0005072423606922,
             -1.0005072423606922
            ]
           ]
          },
          {
           "line": {
            "color": "purple",
            "width": 10
           },
           "mode": "lines+text",
           "name": "Maximum equivariance",
           "showlegend": true,
           "text": [
            "",
            "(0.00, 0.00, 1.00)"
           ],
           "textfont": {
            "color": "purple",
            "size": 30
           },
           "type": "scatter3d",
           "x": [
            0,
            0
           ],
           "y": [
            0,
            0
           ],
           "z": [
            0.900456518124623,
            1.5007608635410383
           ]
          },
          {
           "line": {
            "color": "brown",
            "width": 10
           },
           "mode": "lines+text",
           "name": "Minimum equivariance",
           "showlegend": true,
           "text": [
            "",
            "(-0.00, -0.00, -1.00)"
           ],
           "textfont": {
            "color": "brown",
            "size": 30
           },
           "type": "scatter3d",
           "x": [
            -7.872041057227393e-8,
            -1.312006842871232e-7
           ],
           "y": [
            0,
            0
           ],
           "z": [
            -0.900456518124623,
            -1.5007608635410383
           ]
          },
          {
           "line": {
            "color": "purple",
            "dash": "longdash",
            "width": 10
           },
           "mode": "lines+text",
           "name": "Maximum equivariance complement",
           "showlegend": true,
           "text": [
            "",
            "(0.00, 0.00, 1.00)"
           ],
           "textfont": {
            "color": "purple",
            "size": 30
           },
           "type": "scatter3d",
           "x": [
            0,
            0
           ],
           "y": [
            0,
            0
           ],
           "z": [
            -0.900456518124623,
            -1.5007608635410383
           ]
          },
          {
           "line": {
            "color": "brown",
            "dash": "longdash",
            "width": 10
           },
           "mode": "lines+text",
           "name": "Minimum equivariance complement",
           "showlegend": true,
           "text": [
            "",
            "(-0.00, -0.00, -1.00)"
           ],
           "textfont": {
            "color": "brown",
            "size": 30
           },
           "type": "scatter3d",
           "x": [
            7.872041057227393e-8,
            1.312006842871232e-7
           ],
           "y": [
            0,
            0
           ],
           "z": [
            0.900456518124623,
            1.5007608635410383
           ]
          },
          {
           "line": {
            "color": "black",
            "width": 10
           },
           "mode": "lines+text",
           "name": "x-axis",
           "text": [
            "-x",
            "x"
           ],
           "textfont": {
            "size": 30
           },
           "type": "scatter3d",
           "x": [
            -1.5,
            1.5
           ],
           "y": [
            0,
            0
           ],
           "z": [
            0,
            0
           ]
          },
          {
           "line": {
            "color": "black",
            "width": 10
           },
           "mode": "lines+text",
           "name": "y-axis",
           "text": [
            "-y",
            "y"
           ],
           "textfont": {
            "size": 30
           },
           "type": "scatter3d",
           "x": [
            0,
            0
           ],
           "y": [
            -1.5,
            1.5
           ],
           "z": [
            0,
            0
           ]
          },
          {
           "line": {
            "color": "black",
            "width": 10
           },
           "mode": "lines+text",
           "name": "z-axis",
           "text": [
            "-z",
            "z"
           ],
           "textfont": {
            "size": 30
           },
           "type": "scatter3d",
           "x": [
            0,
            0
           ],
           "y": [
            0,
            0
           ],
           "z": [
            -1.5,
            1.5
           ]
          }
         ],
         "name": "0.75 π"
        },
        {
         "data": [
          {
           "cmax": 1,
           "cmin": 0.1791181435585022,
           "colorscale": [
            [
             0,
             "rgb(0,50,255)"
            ],
            [
             0.5,
             "rgb(200,200,200)"
            ],
            [
             1,
             "rgb(255,50,0)"
            ]
           ],
           "name": "Equivariance",
           "opacity": 1,
           "showlegend": true,
           "surfacecolor": [
            [
             0.5789098143577576,
             0.5941771268844604
            ],
            [
             0.5789098143577576,
             0.5946865677833557
            ]
           ],
           "type": "surface",
           "x": [
            [
             0,
             -8.746712285808214e-8
            ],
            [
             0,
             3.8233092627220296e-15
            ]
           ],
           "y": [
            [
             0,
             0
            ],
            [
             0,
             -8.746712285808214e-8
            ]
           ],
           "z": [
            [
             1.0005072423606922,
             -1.0005072423606922
            ],
            [
             1.0005072423606922,
             -1.0005072423606922
            ]
           ]
          },
          {
           "line": {
            "color": "purple",
            "width": 10
           },
           "mode": "lines+text",
           "name": "Maximum equivariance",
           "showlegend": true,
           "text": [
            "",
            "(0.00, -0.00, -1.00)"
           ],
           "textfont": {
            "color": "purple",
            "size": 30
           },
           "type": "scatter3d",
           "x": [
            3.4409783364498266e-15,
            5.734963894083044e-15
           ],
           "y": [
            -7.872041057227393e-8,
            -1.312006842871232e-7
           ],
           "z": [
            -0.900456518124623,
            -1.5007608635410383
           ]
          },
          {
           "line": {
            "color": "brown",
            "width": 10
           },
           "mode": "lines+text",
           "name": "Minimum equivariance",
           "showlegend": true,
           "text": [
            "",
            "(0.00, 0.00, 1.00)"
           ],
           "textfont": {
            "color": "brown",
            "size": 30
           },
           "type": "scatter3d",
           "x": [
            0,
            0
           ],
           "y": [
            0,
            0
           ],
           "z": [
            0.900456518124623,
            1.5007608635410383
           ]
          },
          {
           "line": {
            "color": "purple",
            "dash": "longdash",
            "width": 10
           },
           "mode": "lines+text",
           "name": "Maximum equivariance complement",
           "showlegend": true,
           "text": [
            "",
            "(0.00, -0.00, -1.00)"
           ],
           "textfont": {
            "color": "purple",
            "size": 30
           },
           "type": "scatter3d",
           "x": [
            -3.4409783364498266e-15,
            -5.734963894083044e-15
           ],
           "y": [
            7.872041057227393e-8,
            1.312006842871232e-7
           ],
           "z": [
            0.900456518124623,
            1.5007608635410383
           ]
          },
          {
           "line": {
            "color": "brown",
            "dash": "longdash",
            "width": 10
           },
           "mode": "lines+text",
           "name": "Minimum equivariance complement",
           "showlegend": true,
           "text": [
            "",
            "(0.00, 0.00, 1.00)"
           ],
           "textfont": {
            "color": "brown",
            "size": 30
           },
           "type": "scatter3d",
           "x": [
            0,
            0
           ],
           "y": [
            0,
            0
           ],
           "z": [
            -0.900456518124623,
            -1.5007608635410383
           ]
          },
          {
           "line": {
            "color": "black",
            "width": 10
           },
           "mode": "lines+text",
           "name": "x-axis",
           "text": [
            "-x",
            "x"
           ],
           "textfont": {
            "size": 30
           },
           "type": "scatter3d",
           "x": [
            -1.5,
            1.5
           ],
           "y": [
            0,
            0
           ],
           "z": [
            0,
            0
           ]
          },
          {
           "line": {
            "color": "black",
            "width": 10
           },
           "mode": "lines+text",
           "name": "y-axis",
           "text": [
            "-y",
            "y"
           ],
           "textfont": {
            "size": 30
           },
           "type": "scatter3d",
           "x": [
            0,
            0
           ],
           "y": [
            -1.5,
            1.5
           ],
           "z": [
            0,
            0
           ]
          },
          {
           "line": {
            "color": "black",
            "width": 10
           },
           "mode": "lines+text",
           "name": "z-axis",
           "text": [
            "-z",
            "z"
           ],
           "textfont": {
            "size": 30
           },
           "type": "scatter3d",
           "x": [
            0,
            0
           ],
           "y": [
            0,
            0
           ],
           "z": [
            -1.5,
            1.5
           ]
          }
         ],
         "name": "1.00 π"
        }
       ],
       "layout": {
        "legend": {
         "x": 0.01,
         "xanchor": "left",
         "y": 1.59,
         "yanchor": "top"
        },
        "margin": {
         "b": 1,
         "l": 1,
         "r": 1,
         "t": 1
        },
        "paper_bgcolor": "rgba(0,0,0,0)",
        "plot_bgcolor": "rgba(0,0,0,0)",
        "scene": {
         "xaxis": {
          "nticks": 3,
          "showbackground": false,
          "showgrid": false,
          "showticklabels": false,
          "title": {
           "text": ""
          },
          "zeroline": true
         },
         "yaxis": {
          "nticks": 3,
          "showbackground": false,
          "showgrid": false,
          "showticklabels": false,
          "title": {
           "text": ""
          },
          "zeroline": true
         },
         "zaxis": {
          "nticks": 3,
          "showbackground": false,
          "showgrid": false,
          "showticklabels": false,
          "title": {
           "text": ""
          },
          "zeroline": true
         }
        },
        "sliders": [
         {
          "len": 1.5,
          "pad": {
           "b": 10,
           "t": 60
          },
          "steps": [
           {
            "args": [
             [
              "0.00 π"
             ],
             {
              "frame": {
               "duration": 0
              },
              "fromcurrent": true,
              "mode": "immediate",
              "transition": {
               "duration": 0,
               "easing": "linear"
              }
             }
            ],
            "label": "0.00 π",
            "method": "animate"
           },
           {
            "args": [
             [
              "0.25 π"
             ],
             {
              "frame": {
               "duration": 0
              },
              "fromcurrent": true,
              "mode": "immediate",
              "transition": {
               "duration": 0,
               "easing": "linear"
              }
             }
            ],
            "label": "0.25 π",
            "method": "animate"
           },
           {
            "args": [
             [
              "0.50 π"
             ],
             {
              "frame": {
               "duration": 0
              },
              "fromcurrent": true,
              "mode": "immediate",
              "transition": {
               "duration": 0,
               "easing": "linear"
              }
             }
            ],
            "label": "0.50 π",
            "method": "animate"
           },
           {
            "args": [
             [
              "0.75 π"
             ],
             {
              "frame": {
               "duration": 0
              },
              "fromcurrent": true,
              "mode": "immediate",
              "transition": {
               "duration": 0,
               "easing": "linear"
              }
             }
            ],
            "label": "0.75 π",
            "method": "animate"
           },
           {
            "args": [
             [
              "1.00 π"
             ],
             {
              "frame": {
               "duration": 0
              },
              "fromcurrent": true,
              "mode": "immediate",
              "transition": {
               "duration": 0,
               "easing": "linear"
              }
             }
            ],
            "label": "1.00 π",
            "method": "animate"
           }
          ],
          "x": 0.1,
          "y": 0
         }
        ],
        "template": {
         "data": {
          "bar": [
           {
            "error_x": {
             "color": "#2a3f5f"
            },
            "error_y": {
             "color": "#2a3f5f"
            },
            "marker": {
             "line": {
              "color": "#E5ECF6",
              "width": 0.5
             },
             "pattern": {
              "fillmode": "overlay",
              "size": 10,
              "solidity": 0.2
             }
            },
            "type": "bar"
           }
          ],
          "barpolar": [
           {
            "marker": {
             "line": {
              "color": "#E5ECF6",
              "width": 0.5
             },
             "pattern": {
              "fillmode": "overlay",
              "size": 10,
              "solidity": 0.2
             }
            },
            "type": "barpolar"
           }
          ],
          "carpet": [
           {
            "aaxis": {
             "endlinecolor": "#2a3f5f",
             "gridcolor": "white",
             "linecolor": "white",
             "minorgridcolor": "white",
             "startlinecolor": "#2a3f5f"
            },
            "baxis": {
             "endlinecolor": "#2a3f5f",
             "gridcolor": "white",
             "linecolor": "white",
             "minorgridcolor": "white",
             "startlinecolor": "#2a3f5f"
            },
            "type": "carpet"
           }
          ],
          "choropleth": [
           {
            "colorbar": {
             "outlinewidth": 0,
             "ticks": ""
            },
            "type": "choropleth"
           }
          ],
          "contour": [
           {
            "colorbar": {
             "outlinewidth": 0,
             "ticks": ""
            },
            "colorscale": [
             [
              0,
              "#0d0887"
             ],
             [
              0.1111111111111111,
              "#46039f"
             ],
             [
              0.2222222222222222,
              "#7201a8"
             ],
             [
              0.3333333333333333,
              "#9c179e"
             ],
             [
              0.4444444444444444,
              "#bd3786"
             ],
             [
              0.5555555555555556,
              "#d8576b"
             ],
             [
              0.6666666666666666,
              "#ed7953"
             ],
             [
              0.7777777777777778,
              "#fb9f3a"
             ],
             [
              0.8888888888888888,
              "#fdca26"
             ],
             [
              1,
              "#f0f921"
             ]
            ],
            "type": "contour"
           }
          ],
          "contourcarpet": [
           {
            "colorbar": {
             "outlinewidth": 0,
             "ticks": ""
            },
            "type": "contourcarpet"
           }
          ],
          "heatmap": [
           {
            "colorbar": {
             "outlinewidth": 0,
             "ticks": ""
            },
            "colorscale": [
             [
              0,
              "#0d0887"
             ],
             [
              0.1111111111111111,
              "#46039f"
             ],
             [
              0.2222222222222222,
              "#7201a8"
             ],
             [
              0.3333333333333333,
              "#9c179e"
             ],
             [
              0.4444444444444444,
              "#bd3786"
             ],
             [
              0.5555555555555556,
              "#d8576b"
             ],
             [
              0.6666666666666666,
              "#ed7953"
             ],
             [
              0.7777777777777778,
              "#fb9f3a"
             ],
             [
              0.8888888888888888,
              "#fdca26"
             ],
             [
              1,
              "#f0f921"
             ]
            ],
            "type": "heatmap"
           }
          ],
          "heatmapgl": [
           {
            "colorbar": {
             "outlinewidth": 0,
             "ticks": ""
            },
            "colorscale": [
             [
              0,
              "#0d0887"
             ],
             [
              0.1111111111111111,
              "#46039f"
             ],
             [
              0.2222222222222222,
              "#7201a8"
             ],
             [
              0.3333333333333333,
              "#9c179e"
             ],
             [
              0.4444444444444444,
              "#bd3786"
             ],
             [
              0.5555555555555556,
              "#d8576b"
             ],
             [
              0.6666666666666666,
              "#ed7953"
             ],
             [
              0.7777777777777778,
              "#fb9f3a"
             ],
             [
              0.8888888888888888,
              "#fdca26"
             ],
             [
              1,
              "#f0f921"
             ]
            ],
            "type": "heatmapgl"
           }
          ],
          "histogram": [
           {
            "marker": {
             "pattern": {
              "fillmode": "overlay",
              "size": 10,
              "solidity": 0.2
             }
            },
            "type": "histogram"
           }
          ],
          "histogram2d": [
           {
            "colorbar": {
             "outlinewidth": 0,
             "ticks": ""
            },
            "colorscale": [
             [
              0,
              "#0d0887"
             ],
             [
              0.1111111111111111,
              "#46039f"
             ],
             [
              0.2222222222222222,
              "#7201a8"
             ],
             [
              0.3333333333333333,
              "#9c179e"
             ],
             [
              0.4444444444444444,
              "#bd3786"
             ],
             [
              0.5555555555555556,
              "#d8576b"
             ],
             [
              0.6666666666666666,
              "#ed7953"
             ],
             [
              0.7777777777777778,
              "#fb9f3a"
             ],
             [
              0.8888888888888888,
              "#fdca26"
             ],
             [
              1,
              "#f0f921"
             ]
            ],
            "type": "histogram2d"
           }
          ],
          "histogram2dcontour": [
           {
            "colorbar": {
             "outlinewidth": 0,
             "ticks": ""
            },
            "colorscale": [
             [
              0,
              "#0d0887"
             ],
             [
              0.1111111111111111,
              "#46039f"
             ],
             [
              0.2222222222222222,
              "#7201a8"
             ],
             [
              0.3333333333333333,
              "#9c179e"
             ],
             [
              0.4444444444444444,
              "#bd3786"
             ],
             [
              0.5555555555555556,
              "#d8576b"
             ],
             [
              0.6666666666666666,
              "#ed7953"
             ],
             [
              0.7777777777777778,
              "#fb9f3a"
             ],
             [
              0.8888888888888888,
              "#fdca26"
             ],
             [
              1,
              "#f0f921"
             ]
            ],
            "type": "histogram2dcontour"
           }
          ],
          "mesh3d": [
           {
            "colorbar": {
             "outlinewidth": 0,
             "ticks": ""
            },
            "type": "mesh3d"
           }
          ],
          "parcoords": [
           {
            "line": {
             "colorbar": {
              "outlinewidth": 0,
              "ticks": ""
             }
            },
            "type": "parcoords"
           }
          ],
          "pie": [
           {
            "automargin": true,
            "type": "pie"
           }
          ],
          "scatter": [
           {
            "fillpattern": {
             "fillmode": "overlay",
             "size": 10,
             "solidity": 0.2
            },
            "type": "scatter"
           }
          ],
          "scatter3d": [
           {
            "line": {
             "colorbar": {
              "outlinewidth": 0,
              "ticks": ""
             }
            },
            "marker": {
             "colorbar": {
              "outlinewidth": 0,
              "ticks": ""
             }
            },
            "type": "scatter3d"
           }
          ],
          "scattercarpet": [
           {
            "marker": {
             "colorbar": {
              "outlinewidth": 0,
              "ticks": ""
             }
            },
            "type": "scattercarpet"
           }
          ],
          "scattergeo": [
           {
            "marker": {
             "colorbar": {
              "outlinewidth": 0,
              "ticks": ""
             }
            },
            "type": "scattergeo"
           }
          ],
          "scattergl": [
           {
            "marker": {
             "colorbar": {
              "outlinewidth": 0,
              "ticks": ""
             }
            },
            "type": "scattergl"
           }
          ],
          "scattermapbox": [
           {
            "marker": {
             "colorbar": {
              "outlinewidth": 0,
              "ticks": ""
             }
            },
            "type": "scattermapbox"
           }
          ],
          "scatterpolar": [
           {
            "marker": {
             "colorbar": {
              "outlinewidth": 0,
              "ticks": ""
             }
            },
            "type": "scatterpolar"
           }
          ],
          "scatterpolargl": [
           {
            "marker": {
             "colorbar": {
              "outlinewidth": 0,
              "ticks": ""
             }
            },
            "type": "scatterpolargl"
           }
          ],
          "scatterternary": [
           {
            "marker": {
             "colorbar": {
              "outlinewidth": 0,
              "ticks": ""
             }
            },
            "type": "scatterternary"
           }
          ],
          "surface": [
           {
            "colorbar": {
             "outlinewidth": 0,
             "ticks": ""
            },
            "colorscale": [
             [
              0,
              "#0d0887"
             ],
             [
              0.1111111111111111,
              "#46039f"
             ],
             [
              0.2222222222222222,
              "#7201a8"
             ],
             [
              0.3333333333333333,
              "#9c179e"
             ],
             [
              0.4444444444444444,
              "#bd3786"
             ],
             [
              0.5555555555555556,
              "#d8576b"
             ],
             [
              0.6666666666666666,
              "#ed7953"
             ],
             [
              0.7777777777777778,
              "#fb9f3a"
             ],
             [
              0.8888888888888888,
              "#fdca26"
             ],
             [
              1,
              "#f0f921"
             ]
            ],
            "type": "surface"
           }
          ],
          "table": [
           {
            "cells": {
             "fill": {
              "color": "#EBF0F8"
             },
             "line": {
              "color": "white"
             }
            },
            "header": {
             "fill": {
              "color": "#C8D4E3"
             },
             "line": {
              "color": "white"
             }
            },
            "type": "table"
           }
          ]
         },
         "layout": {
          "annotationdefaults": {
           "arrowcolor": "#2a3f5f",
           "arrowhead": 0,
           "arrowwidth": 1
          },
          "autotypenumbers": "strict",
          "coloraxis": {
           "colorbar": {
            "outlinewidth": 0,
            "ticks": ""
           }
          },
          "colorscale": {
           "diverging": [
            [
             0,
             "#8e0152"
            ],
            [
             0.1,
             "#c51b7d"
            ],
            [
             0.2,
             "#de77ae"
            ],
            [
             0.3,
             "#f1b6da"
            ],
            [
             0.4,
             "#fde0ef"
            ],
            [
             0.5,
             "#f7f7f7"
            ],
            [
             0.6,
             "#e6f5d0"
            ],
            [
             0.7,
             "#b8e186"
            ],
            [
             0.8,
             "#7fbc41"
            ],
            [
             0.9,
             "#4d9221"
            ],
            [
             1,
             "#276419"
            ]
           ],
           "sequential": [
            [
             0,
             "#0d0887"
            ],
            [
             0.1111111111111111,
             "#46039f"
            ],
            [
             0.2222222222222222,
             "#7201a8"
            ],
            [
             0.3333333333333333,
             "#9c179e"
            ],
            [
             0.4444444444444444,
             "#bd3786"
            ],
            [
             0.5555555555555556,
             "#d8576b"
            ],
            [
             0.6666666666666666,
             "#ed7953"
            ],
            [
             0.7777777777777778,
             "#fb9f3a"
            ],
            [
             0.8888888888888888,
             "#fdca26"
            ],
            [
             1,
             "#f0f921"
            ]
           ],
           "sequentialminus": [
            [
             0,
             "#0d0887"
            ],
            [
             0.1111111111111111,
             "#46039f"
            ],
            [
             0.2222222222222222,
             "#7201a8"
            ],
            [
             0.3333333333333333,
             "#9c179e"
            ],
            [
             0.4444444444444444,
             "#bd3786"
            ],
            [
             0.5555555555555556,
             "#d8576b"
            ],
            [
             0.6666666666666666,
             "#ed7953"
            ],
            [
             0.7777777777777778,
             "#fb9f3a"
            ],
            [
             0.8888888888888888,
             "#fdca26"
            ],
            [
             1,
             "#f0f921"
            ]
           ]
          },
          "colorway": [
           "#636efa",
           "#EF553B",
           "#00cc96",
           "#ab63fa",
           "#FFA15A",
           "#19d3f3",
           "#FF6692",
           "#B6E880",
           "#FF97FF",
           "#FECB52"
          ],
          "font": {
           "color": "#2a3f5f"
          },
          "geo": {
           "bgcolor": "white",
           "lakecolor": "white",
           "landcolor": "#E5ECF6",
           "showlakes": true,
           "showland": true,
           "subunitcolor": "white"
          },
          "hoverlabel": {
           "align": "left"
          },
          "hovermode": "closest",
          "mapbox": {
           "style": "light"
          },
          "paper_bgcolor": "white",
          "plot_bgcolor": "#E5ECF6",
          "polar": {
           "angularaxis": {
            "gridcolor": "white",
            "linecolor": "white",
            "ticks": ""
           },
           "bgcolor": "#E5ECF6",
           "radialaxis": {
            "gridcolor": "white",
            "linecolor": "white",
            "ticks": ""
           }
          },
          "scene": {
           "xaxis": {
            "backgroundcolor": "#E5ECF6",
            "gridcolor": "white",
            "gridwidth": 2,
            "linecolor": "white",
            "showbackground": true,
            "ticks": "",
            "zerolinecolor": "white"
           },
           "yaxis": {
            "backgroundcolor": "#E5ECF6",
            "gridcolor": "white",
            "gridwidth": 2,
            "linecolor": "white",
            "showbackground": true,
            "ticks": "",
            "zerolinecolor": "white"
           },
           "zaxis": {
            "backgroundcolor": "#E5ECF6",
            "gridcolor": "white",
            "gridwidth": 2,
            "linecolor": "white",
            "showbackground": true,
            "ticks": "",
            "zerolinecolor": "white"
           }
          },
          "shapedefaults": {
           "line": {
            "color": "#2a3f5f"
           }
          },
          "ternary": {
           "aaxis": {
            "gridcolor": "white",
            "linecolor": "white",
            "ticks": ""
           },
           "baxis": {
            "gridcolor": "white",
            "linecolor": "white",
            "ticks": ""
           },
           "bgcolor": "#E5ECF6",
           "caxis": {
            "gridcolor": "white",
            "linecolor": "white",
            "ticks": ""
           }
          },
          "title": {
           "x": 0.05
          },
          "xaxis": {
           "automargin": true,
           "gridcolor": "white",
           "linecolor": "white",
           "ticks": "",
           "title": {
            "standoff": 15
           },
           "zerolinecolor": "white",
           "zerolinewidth": 2
          },
          "yaxis": {
           "automargin": true,
           "gridcolor": "white",
           "linecolor": "white",
           "ticks": "",
           "title": {
            "standoff": 15
           },
           "zerolinecolor": "white",
           "zerolinewidth": 2
          }
         }
        }
       }
      },
      "text/html": [
       "<div>                            <div id=\"99aa8fbd-b1a5-4197-9830-18bdaa06bc24\" class=\"plotly-graph-div\" style=\"height:525px; width:100%;\"></div>            <script type=\"text/javascript\">                require([\"plotly\"], function(Plotly) {                    window.PLOTLYENV=window.PLOTLYENV || {};                                    if (document.getElementById(\"99aa8fbd-b1a5-4197-9830-18bdaa06bc24\")) {                    Plotly.newPlot(                        \"99aa8fbd-b1a5-4197-9830-18bdaa06bc24\",                        [{\"cmax\":1.0,\"cmin\":0.1791181435585022,\"colorscale\":[[0,\"rgb(0,50,255)\"],[0.5,\"rgb(200,200,200)\"],[1,\"rgb(255,50,0)\"]],\"name\":\"Equivariance\",\"opacity\":1,\"showlegend\":true,\"surfacecolor\":[[1.0,1.0],[1.0,1.0]],\"x\":[[0.0,-8.746712285808214e-08],[-0.0,3.8233092627220296e-15]],\"y\":[[0.0,-0.0],[0.0,-8.746712285808214e-08]],\"z\":[[1.0005072423606922,-1.0005072423606922],[1.0005072423606922,-1.0005072423606922]],\"type\":\"surface\"},{\"line\":{\"color\":\"purple\",\"width\":10},\"mode\":\"lines+text\",\"name\":\"Maximum equivariance\",\"showlegend\":true,\"textfont\":{\"color\":\"purple\",\"size\":30},\"x\":[-0.1,0.1],\"y\":[-0.1,0.1],\"z\":[-0.1,0.1],\"type\":\"scatter3d\"},{\"line\":{\"color\":\"brown\",\"width\":10},\"mode\":\"lines+text\",\"name\":\"Minimum equivariance\",\"showlegend\":true,\"textfont\":{\"color\":\"brown\",\"size\":30},\"x\":[-0.1,0.1],\"y\":[-0.1,0.1],\"z\":[-0.1,0.1],\"type\":\"scatter3d\"},{\"line\":{\"color\":\"purple\",\"dash\":\"longdash\",\"width\":10},\"mode\":\"lines\",\"name\":\"Maximum equivariance complement\",\"showlegend\":true,\"textfont\":{\"size\":30},\"x\":[-0.1,0.1],\"y\":[-0.1,0.1],\"z\":[-0.1,0.1],\"type\":\"scatter3d\"},{\"line\":{\"color\":\"brown\",\"dash\":\"longdash\",\"width\":10},\"mode\":\"lines\",\"name\":\"Minimum equivariance complement\",\"showlegend\":true,\"textfont\":{\"size\":30},\"x\":[-0.1,0.1],\"y\":[-0.1,0.1],\"z\":[-0.1,0.1],\"type\":\"scatter3d\"},{\"line\":{\"color\":\"black\",\"width\":10},\"mode\":\"lines+text\",\"name\":\"x-axis\",\"text\":[\"-x\",\"x\"],\"textfont\":{\"size\":30},\"x\":[-1.5,1.5],\"y\":[0,0],\"z\":[0,0],\"type\":\"scatter3d\"},{\"line\":{\"color\":\"black\",\"width\":10},\"mode\":\"lines+text\",\"name\":\"y-axis\",\"text\":[\"-y\",\"y\"],\"textfont\":{\"size\":30},\"x\":[0,0],\"y\":[-1.5,1.5],\"z\":[0,0],\"type\":\"scatter3d\"},{\"line\":{\"color\":\"black\",\"width\":10},\"mode\":\"lines+text\",\"name\":\"z-axis\",\"text\":[\"-z\",\"z\"],\"textfont\":{\"size\":30},\"x\":[0,0],\"y\":[0,0],\"z\":[-1.5,1.5],\"type\":\"scatter3d\"}],                        {\"margin\":{\"b\":1,\"l\":1,\"r\":1,\"t\":1},\"paper_bgcolor\":\"rgba(0,0,0,0)\",\"plot_bgcolor\":\"rgba(0,0,0,0)\",\"scene\":{\"xaxis\":{\"nticks\":3,\"showbackground\":false,\"showgrid\":false,\"showticklabels\":false,\"title\":{\"text\":\"\"},\"zeroline\":true},\"yaxis\":{\"nticks\":3,\"showbackground\":false,\"showgrid\":false,\"showticklabels\":false,\"title\":{\"text\":\"\"},\"zeroline\":true},\"zaxis\":{\"nticks\":3,\"showbackground\":false,\"showgrid\":false,\"showticklabels\":false,\"title\":{\"text\":\"\"},\"zeroline\":true}},\"template\":{\"data\":{\"histogram2dcontour\":[{\"type\":\"histogram2dcontour\",\"colorbar\":{\"outlinewidth\":0,\"ticks\":\"\"},\"colorscale\":[[0.0,\"#0d0887\"],[0.1111111111111111,\"#46039f\"],[0.2222222222222222,\"#7201a8\"],[0.3333333333333333,\"#9c179e\"],[0.4444444444444444,\"#bd3786\"],[0.5555555555555556,\"#d8576b\"],[0.6666666666666666,\"#ed7953\"],[0.7777777777777778,\"#fb9f3a\"],[0.8888888888888888,\"#fdca26\"],[1.0,\"#f0f921\"]]}],\"choropleth\":[{\"type\":\"choropleth\",\"colorbar\":{\"outlinewidth\":0,\"ticks\":\"\"}}],\"histogram2d\":[{\"type\":\"histogram2d\",\"colorbar\":{\"outlinewidth\":0,\"ticks\":\"\"},\"colorscale\":[[0.0,\"#0d0887\"],[0.1111111111111111,\"#46039f\"],[0.2222222222222222,\"#7201a8\"],[0.3333333333333333,\"#9c179e\"],[0.4444444444444444,\"#bd3786\"],[0.5555555555555556,\"#d8576b\"],[0.6666666666666666,\"#ed7953\"],[0.7777777777777778,\"#fb9f3a\"],[0.8888888888888888,\"#fdca26\"],[1.0,\"#f0f921\"]]}],\"heatmap\":[{\"type\":\"heatmap\",\"colorbar\":{\"outlinewidth\":0,\"ticks\":\"\"},\"colorscale\":[[0.0,\"#0d0887\"],[0.1111111111111111,\"#46039f\"],[0.2222222222222222,\"#7201a8\"],[0.3333333333333333,\"#9c179e\"],[0.4444444444444444,\"#bd3786\"],[0.5555555555555556,\"#d8576b\"],[0.6666666666666666,\"#ed7953\"],[0.7777777777777778,\"#fb9f3a\"],[0.8888888888888888,\"#fdca26\"],[1.0,\"#f0f921\"]]}],\"heatmapgl\":[{\"type\":\"heatmapgl\",\"colorbar\":{\"outlinewidth\":0,\"ticks\":\"\"},\"colorscale\":[[0.0,\"#0d0887\"],[0.1111111111111111,\"#46039f\"],[0.2222222222222222,\"#7201a8\"],[0.3333333333333333,\"#9c179e\"],[0.4444444444444444,\"#bd3786\"],[0.5555555555555556,\"#d8576b\"],[0.6666666666666666,\"#ed7953\"],[0.7777777777777778,\"#fb9f3a\"],[0.8888888888888888,\"#fdca26\"],[1.0,\"#f0f921\"]]}],\"contourcarpet\":[{\"type\":\"contourcarpet\",\"colorbar\":{\"outlinewidth\":0,\"ticks\":\"\"}}],\"contour\":[{\"type\":\"contour\",\"colorbar\":{\"outlinewidth\":0,\"ticks\":\"\"},\"colorscale\":[[0.0,\"#0d0887\"],[0.1111111111111111,\"#46039f\"],[0.2222222222222222,\"#7201a8\"],[0.3333333333333333,\"#9c179e\"],[0.4444444444444444,\"#bd3786\"],[0.5555555555555556,\"#d8576b\"],[0.6666666666666666,\"#ed7953\"],[0.7777777777777778,\"#fb9f3a\"],[0.8888888888888888,\"#fdca26\"],[1.0,\"#f0f921\"]]}],\"surface\":[{\"type\":\"surface\",\"colorbar\":{\"outlinewidth\":0,\"ticks\":\"\"},\"colorscale\":[[0.0,\"#0d0887\"],[0.1111111111111111,\"#46039f\"],[0.2222222222222222,\"#7201a8\"],[0.3333333333333333,\"#9c179e\"],[0.4444444444444444,\"#bd3786\"],[0.5555555555555556,\"#d8576b\"],[0.6666666666666666,\"#ed7953\"],[0.7777777777777778,\"#fb9f3a\"],[0.8888888888888888,\"#fdca26\"],[1.0,\"#f0f921\"]]}],\"mesh3d\":[{\"type\":\"mesh3d\",\"colorbar\":{\"outlinewidth\":0,\"ticks\":\"\"}}],\"scatter\":[{\"fillpattern\":{\"fillmode\":\"overlay\",\"size\":10,\"solidity\":0.2},\"type\":\"scatter\"}],\"parcoords\":[{\"type\":\"parcoords\",\"line\":{\"colorbar\":{\"outlinewidth\":0,\"ticks\":\"\"}}}],\"scatterpolargl\":[{\"type\":\"scatterpolargl\",\"marker\":{\"colorbar\":{\"outlinewidth\":0,\"ticks\":\"\"}}}],\"bar\":[{\"error_x\":{\"color\":\"#2a3f5f\"},\"error_y\":{\"color\":\"#2a3f5f\"},\"marker\":{\"line\":{\"color\":\"#E5ECF6\",\"width\":0.5},\"pattern\":{\"fillmode\":\"overlay\",\"size\":10,\"solidity\":0.2}},\"type\":\"bar\"}],\"scattergeo\":[{\"type\":\"scattergeo\",\"marker\":{\"colorbar\":{\"outlinewidth\":0,\"ticks\":\"\"}}}],\"scatterpolar\":[{\"type\":\"scatterpolar\",\"marker\":{\"colorbar\":{\"outlinewidth\":0,\"ticks\":\"\"}}}],\"histogram\":[{\"marker\":{\"pattern\":{\"fillmode\":\"overlay\",\"size\":10,\"solidity\":0.2}},\"type\":\"histogram\"}],\"scattergl\":[{\"type\":\"scattergl\",\"marker\":{\"colorbar\":{\"outlinewidth\":0,\"ticks\":\"\"}}}],\"scatter3d\":[{\"type\":\"scatter3d\",\"line\":{\"colorbar\":{\"outlinewidth\":0,\"ticks\":\"\"}},\"marker\":{\"colorbar\":{\"outlinewidth\":0,\"ticks\":\"\"}}}],\"scattermapbox\":[{\"type\":\"scattermapbox\",\"marker\":{\"colorbar\":{\"outlinewidth\":0,\"ticks\":\"\"}}}],\"scatterternary\":[{\"type\":\"scatterternary\",\"marker\":{\"colorbar\":{\"outlinewidth\":0,\"ticks\":\"\"}}}],\"scattercarpet\":[{\"type\":\"scattercarpet\",\"marker\":{\"colorbar\":{\"outlinewidth\":0,\"ticks\":\"\"}}}],\"carpet\":[{\"aaxis\":{\"endlinecolor\":\"#2a3f5f\",\"gridcolor\":\"white\",\"linecolor\":\"white\",\"minorgridcolor\":\"white\",\"startlinecolor\":\"#2a3f5f\"},\"baxis\":{\"endlinecolor\":\"#2a3f5f\",\"gridcolor\":\"white\",\"linecolor\":\"white\",\"minorgridcolor\":\"white\",\"startlinecolor\":\"#2a3f5f\"},\"type\":\"carpet\"}],\"table\":[{\"cells\":{\"fill\":{\"color\":\"#EBF0F8\"},\"line\":{\"color\":\"white\"}},\"header\":{\"fill\":{\"color\":\"#C8D4E3\"},\"line\":{\"color\":\"white\"}},\"type\":\"table\"}],\"barpolar\":[{\"marker\":{\"line\":{\"color\":\"#E5ECF6\",\"width\":0.5},\"pattern\":{\"fillmode\":\"overlay\",\"size\":10,\"solidity\":0.2}},\"type\":\"barpolar\"}],\"pie\":[{\"automargin\":true,\"type\":\"pie\"}]},\"layout\":{\"autotypenumbers\":\"strict\",\"colorway\":[\"#636efa\",\"#EF553B\",\"#00cc96\",\"#ab63fa\",\"#FFA15A\",\"#19d3f3\",\"#FF6692\",\"#B6E880\",\"#FF97FF\",\"#FECB52\"],\"font\":{\"color\":\"#2a3f5f\"},\"hovermode\":\"closest\",\"hoverlabel\":{\"align\":\"left\"},\"paper_bgcolor\":\"white\",\"plot_bgcolor\":\"#E5ECF6\",\"polar\":{\"bgcolor\":\"#E5ECF6\",\"angularaxis\":{\"gridcolor\":\"white\",\"linecolor\":\"white\",\"ticks\":\"\"},\"radialaxis\":{\"gridcolor\":\"white\",\"linecolor\":\"white\",\"ticks\":\"\"}},\"ternary\":{\"bgcolor\":\"#E5ECF6\",\"aaxis\":{\"gridcolor\":\"white\",\"linecolor\":\"white\",\"ticks\":\"\"},\"baxis\":{\"gridcolor\":\"white\",\"linecolor\":\"white\",\"ticks\":\"\"},\"caxis\":{\"gridcolor\":\"white\",\"linecolor\":\"white\",\"ticks\":\"\"}},\"coloraxis\":{\"colorbar\":{\"outlinewidth\":0,\"ticks\":\"\"}},\"colorscale\":{\"sequential\":[[0.0,\"#0d0887\"],[0.1111111111111111,\"#46039f\"],[0.2222222222222222,\"#7201a8\"],[0.3333333333333333,\"#9c179e\"],[0.4444444444444444,\"#bd3786\"],[0.5555555555555556,\"#d8576b\"],[0.6666666666666666,\"#ed7953\"],[0.7777777777777778,\"#fb9f3a\"],[0.8888888888888888,\"#fdca26\"],[1.0,\"#f0f921\"]],\"sequentialminus\":[[0.0,\"#0d0887\"],[0.1111111111111111,\"#46039f\"],[0.2222222222222222,\"#7201a8\"],[0.3333333333333333,\"#9c179e\"],[0.4444444444444444,\"#bd3786\"],[0.5555555555555556,\"#d8576b\"],[0.6666666666666666,\"#ed7953\"],[0.7777777777777778,\"#fb9f3a\"],[0.8888888888888888,\"#fdca26\"],[1.0,\"#f0f921\"]],\"diverging\":[[0,\"#8e0152\"],[0.1,\"#c51b7d\"],[0.2,\"#de77ae\"],[0.3,\"#f1b6da\"],[0.4,\"#fde0ef\"],[0.5,\"#f7f7f7\"],[0.6,\"#e6f5d0\"],[0.7,\"#b8e186\"],[0.8,\"#7fbc41\"],[0.9,\"#4d9221\"],[1,\"#276419\"]]},\"xaxis\":{\"gridcolor\":\"white\",\"linecolor\":\"white\",\"ticks\":\"\",\"title\":{\"standoff\":15},\"zerolinecolor\":\"white\",\"automargin\":true,\"zerolinewidth\":2},\"yaxis\":{\"gridcolor\":\"white\",\"linecolor\":\"white\",\"ticks\":\"\",\"title\":{\"standoff\":15},\"zerolinecolor\":\"white\",\"automargin\":true,\"zerolinewidth\":2},\"scene\":{\"xaxis\":{\"backgroundcolor\":\"#E5ECF6\",\"gridcolor\":\"white\",\"linecolor\":\"white\",\"showbackground\":true,\"ticks\":\"\",\"zerolinecolor\":\"white\",\"gridwidth\":2},\"yaxis\":{\"backgroundcolor\":\"#E5ECF6\",\"gridcolor\":\"white\",\"linecolor\":\"white\",\"showbackground\":true,\"ticks\":\"\",\"zerolinecolor\":\"white\",\"gridwidth\":2},\"zaxis\":{\"backgroundcolor\":\"#E5ECF6\",\"gridcolor\":\"white\",\"linecolor\":\"white\",\"showbackground\":true,\"ticks\":\"\",\"zerolinecolor\":\"white\",\"gridwidth\":2}},\"shapedefaults\":{\"line\":{\"color\":\"#2a3f5f\"}},\"annotationdefaults\":{\"arrowcolor\":\"#2a3f5f\",\"arrowhead\":0,\"arrowwidth\":1},\"geo\":{\"bgcolor\":\"white\",\"landcolor\":\"#E5ECF6\",\"subunitcolor\":\"white\",\"showland\":true,\"showlakes\":true,\"lakecolor\":\"white\"},\"title\":{\"x\":0.05},\"mapbox\":{\"style\":\"light\"}}},\"legend\":{\"yanchor\":\"top\",\"y\":1.59,\"xanchor\":\"left\",\"x\":0.01},\"sliders\":[{\"len\":1.5,\"pad\":{\"b\":10,\"t\":60},\"steps\":[{\"args\":[[\"0.00 \\u03c0\"],{\"frame\":{\"duration\":0},\"mode\":\"immediate\",\"fromcurrent\":true,\"transition\":{\"duration\":0,\"easing\":\"linear\"}}],\"label\":\"0.00 \\u03c0\",\"method\":\"animate\"},{\"args\":[[\"0.25 \\u03c0\"],{\"frame\":{\"duration\":0},\"mode\":\"immediate\",\"fromcurrent\":true,\"transition\":{\"duration\":0,\"easing\":\"linear\"}}],\"label\":\"0.25 \\u03c0\",\"method\":\"animate\"},{\"args\":[[\"0.50 \\u03c0\"],{\"frame\":{\"duration\":0},\"mode\":\"immediate\",\"fromcurrent\":true,\"transition\":{\"duration\":0,\"easing\":\"linear\"}}],\"label\":\"0.50 \\u03c0\",\"method\":\"animate\"},{\"args\":[[\"0.75 \\u03c0\"],{\"frame\":{\"duration\":0},\"mode\":\"immediate\",\"fromcurrent\":true,\"transition\":{\"duration\":0,\"easing\":\"linear\"}}],\"label\":\"0.75 \\u03c0\",\"method\":\"animate\"},{\"args\":[[\"1.00 \\u03c0\"],{\"frame\":{\"duration\":0},\"mode\":\"immediate\",\"fromcurrent\":true,\"transition\":{\"duration\":0,\"easing\":\"linear\"}}],\"label\":\"1.00 \\u03c0\",\"method\":\"animate\"}],\"x\":0.1,\"y\":0}]},                        {\"responsive\": true}                    ).then(function(){\n",
       "                            Plotly.addFrames('99aa8fbd-b1a5-4197-9830-18bdaa06bc24', [{\"data\":[{\"cmax\":1.0,\"cmin\":0.1791181435585022,\"colorscale\":[[0,\"rgb(0,50,255)\"],[0.5,\"rgb(200,200,200)\"],[1,\"rgb(255,50,0)\"]],\"name\":\"Equivariance\",\"opacity\":1,\"showlegend\":true,\"surfacecolor\":[[1.0,1.0],[1.0,1.0]],\"x\":[[0.0,-8.746712285808214e-08],[-0.0,3.8233092627220296e-15]],\"y\":[[0.0,-0.0],[0.0,-8.746712285808214e-08]],\"z\":[[1.0005072423606922,-1.0005072423606922],[1.0005072423606922,-1.0005072423606922]],\"type\":\"surface\"},{\"line\":{\"color\":\"purple\",\"width\":10},\"mode\":\"lines+text\",\"name\":\"Maximum equivariance\",\"showlegend\":true,\"text\":[\"\",\"(0.00, 0.00, 0.00)\"],\"textfont\":{\"color\":\"purple\",\"size\":30},\"x\":[0.0,0.0],\"y\":[0.0,0.0],\"z\":[0.0,0.0],\"type\":\"scatter3d\"},{\"line\":{\"color\":\"brown\",\"width\":10},\"mode\":\"lines+text\",\"name\":\"Minimum equivariance\",\"showlegend\":true,\"text\":[\"\",\"(0.00, 0.00, 0.00)\"],\"textfont\":{\"color\":\"brown\",\"size\":30},\"x\":[0.0,0.0],\"y\":[0.0,0.0],\"z\":[0.0,0.0],\"type\":\"scatter3d\"},{\"line\":{\"color\":\"purple\",\"dash\":\"longdash\",\"width\":10},\"mode\":\"lines+text\",\"name\":\"Maximum equivariance complement\",\"showlegend\":true,\"text\":[\"\",\"(0.00, 0.00, 0.00)\"],\"textfont\":{\"color\":\"purple\",\"size\":30},\"x\":[0.0,0.0],\"y\":[0.0,0.0],\"z\":[0.0,0.0],\"type\":\"scatter3d\"},{\"line\":{\"color\":\"brown\",\"dash\":\"longdash\",\"width\":10},\"mode\":\"lines+text\",\"name\":\"Minimum equivariance complement\",\"showlegend\":true,\"text\":[\"\",\"(0.00, 0.00, 0.00)\"],\"textfont\":{\"color\":\"brown\",\"size\":30},\"x\":[0.0,0.0],\"y\":[0.0,0.0],\"z\":[0.0,0.0],\"type\":\"scatter3d\"},{\"line\":{\"color\":\"black\",\"width\":10},\"mode\":\"lines+text\",\"name\":\"x-axis\",\"text\":[\"-x\",\"x\"],\"textfont\":{\"size\":30},\"x\":[-1.5,1.5],\"y\":[0,0],\"z\":[0,0],\"type\":\"scatter3d\"},{\"line\":{\"color\":\"black\",\"width\":10},\"mode\":\"lines+text\",\"name\":\"y-axis\",\"text\":[\"-y\",\"y\"],\"textfont\":{\"size\":30},\"x\":[0,0],\"y\":[-1.5,1.5],\"z\":[0,0],\"type\":\"scatter3d\"},{\"line\":{\"color\":\"black\",\"width\":10},\"mode\":\"lines+text\",\"name\":\"z-axis\",\"text\":[\"-z\",\"z\"],\"textfont\":{\"size\":30},\"x\":[0,0],\"y\":[0,0],\"z\":[-1.5,1.5],\"type\":\"scatter3d\"}],\"name\":\"0.00 \\u03c0\"},{\"data\":[{\"cmax\":1.0,\"cmin\":0.1791181435585022,\"colorscale\":[[0,\"rgb(0,50,255)\"],[0.5,\"rgb(200,200,200)\"],[1,\"rgb(255,50,0)\"]],\"name\":\"Equivariance\",\"opacity\":1,\"showlegend\":true,\"surfacecolor\":[[0.6553849577903748,0.40686357021331787],[0.6553849577903748,0.40686357021331787]],\"x\":[[0.0,-8.746712285808214e-08],[-0.0,3.8233092627220296e-15]],\"y\":[[0.0,-0.0],[0.0,-8.746712285808214e-08]],\"z\":[[1.0005072423606922,-1.0005072423606922],[1.0005072423606922,-1.0005072423606922]],\"type\":\"surface\"},{\"line\":{\"color\":\"purple\",\"width\":10},\"mode\":\"lines+text\",\"name\":\"Maximum equivariance\",\"showlegend\":true,\"text\":[\"\",\"(0.00, 0.00, 1.00)\"],\"textfont\":{\"color\":\"purple\",\"size\":30},\"x\":[0.0,0.0],\"y\":[0.0,0.0],\"z\":[0.900456518124623,1.5007608635410383],\"type\":\"scatter3d\"},{\"line\":{\"color\":\"brown\",\"width\":10},\"mode\":\"lines+text\",\"name\":\"Minimum equivariance\",\"showlegend\":true,\"text\":[\"\",\"(-0.00, -0.00, -1.00)\"],\"textfont\":{\"color\":\"brown\",\"size\":30},\"x\":[-7.872041057227393e-08,-1.312006842871232e-07],\"y\":[-0.0,-0.0],\"z\":[-0.900456518124623,-1.5007608635410383],\"type\":\"scatter3d\"},{\"line\":{\"color\":\"purple\",\"dash\":\"longdash\",\"width\":10},\"mode\":\"lines+text\",\"name\":\"Maximum equivariance complement\",\"showlegend\":true,\"text\":[\"\",\"(0.00, 0.00, 1.00)\"],\"textfont\":{\"color\":\"purple\",\"size\":30},\"x\":[-0.0,-0.0],\"y\":[-0.0,-0.0],\"z\":[-0.900456518124623,-1.5007608635410383],\"type\":\"scatter3d\"},{\"line\":{\"color\":\"brown\",\"dash\":\"longdash\",\"width\":10},\"mode\":\"lines+text\",\"name\":\"Minimum equivariance complement\",\"showlegend\":true,\"text\":[\"\",\"(-0.00, -0.00, -1.00)\"],\"textfont\":{\"color\":\"brown\",\"size\":30},\"x\":[7.872041057227393e-08,1.312006842871232e-07],\"y\":[0.0,0.0],\"z\":[0.900456518124623,1.5007608635410383],\"type\":\"scatter3d\"},{\"line\":{\"color\":\"black\",\"width\":10},\"mode\":\"lines+text\",\"name\":\"x-axis\",\"text\":[\"-x\",\"x\"],\"textfont\":{\"size\":30},\"x\":[-1.5,1.5],\"y\":[0,0],\"z\":[0,0],\"type\":\"scatter3d\"},{\"line\":{\"color\":\"black\",\"width\":10},\"mode\":\"lines+text\",\"name\":\"y-axis\",\"text\":[\"-y\",\"y\"],\"textfont\":{\"size\":30},\"x\":[0,0],\"y\":[-1.5,1.5],\"z\":[0,0],\"type\":\"scatter3d\"},{\"line\":{\"color\":\"black\",\"width\":10},\"mode\":\"lines+text\",\"name\":\"z-axis\",\"text\":[\"-z\",\"z\"],\"textfont\":{\"size\":30},\"x\":[0,0],\"y\":[0,0],\"z\":[-1.5,1.5],\"type\":\"scatter3d\"}],\"name\":\"0.25 \\u03c0\"},{\"data\":[{\"cmax\":1.0,\"cmin\":0.1791181435585022,\"colorscale\":[[0,\"rgb(0,50,255)\"],[0.5,\"rgb(200,200,200)\"],[1,\"rgb(255,50,0)\"]],\"name\":\"Equivariance\",\"opacity\":1,\"showlegend\":true,\"surfacecolor\":[[0.6138792634010315,0.30011415481567383],[0.6138792634010315,0.2975420355796814]],\"x\":[[0.0,-8.746712285808214e-08],[-0.0,3.8233092627220296e-15]],\"y\":[[0.0,-0.0],[0.0,-8.746712285808214e-08]],\"z\":[[1.0005072423606922,-1.0005072423606922],[1.0005072423606922,-1.0005072423606922]],\"type\":\"surface\"},{\"line\":{\"color\":\"purple\",\"width\":10},\"mode\":\"lines+text\",\"name\":\"Maximum equivariance\",\"showlegend\":true,\"text\":[\"\",\"(0.00, 0.00, 1.00)\"],\"textfont\":{\"color\":\"purple\",\"size\":30},\"x\":[0.0,0.0],\"y\":[0.0,0.0],\"z\":[0.900456518124623,1.5007608635410383],\"type\":\"scatter3d\"},{\"line\":{\"color\":\"brown\",\"width\":10},\"mode\":\"lines+text\",\"name\":\"Minimum equivariance\",\"showlegend\":true,\"text\":[\"\",\"(0.00, -0.00, -1.00)\"],\"textfont\":{\"color\":\"brown\",\"size\":30},\"x\":[3.4409783364498266e-15,5.734963894083044e-15],\"y\":[-7.872041057227393e-08,-1.312006842871232e-07],\"z\":[-0.900456518124623,-1.5007608635410383],\"type\":\"scatter3d\"},{\"line\":{\"color\":\"purple\",\"dash\":\"longdash\",\"width\":10},\"mode\":\"lines+text\",\"name\":\"Maximum equivariance complement\",\"showlegend\":true,\"text\":[\"\",\"(0.00, 0.00, 1.00)\"],\"textfont\":{\"color\":\"purple\",\"size\":30},\"x\":[-0.0,-0.0],\"y\":[-0.0,-0.0],\"z\":[-0.900456518124623,-1.5007608635410383],\"type\":\"scatter3d\"},{\"line\":{\"color\":\"brown\",\"dash\":\"longdash\",\"width\":10},\"mode\":\"lines+text\",\"name\":\"Minimum equivariance complement\",\"showlegend\":true,\"text\":[\"\",\"(0.00, -0.00, -1.00)\"],\"textfont\":{\"color\":\"brown\",\"size\":30},\"x\":[-3.4409783364498266e-15,-5.734963894083044e-15],\"y\":[7.872041057227393e-08,1.312006842871232e-07],\"z\":[0.900456518124623,1.5007608635410383],\"type\":\"scatter3d\"},{\"line\":{\"color\":\"black\",\"width\":10},\"mode\":\"lines+text\",\"name\":\"x-axis\",\"text\":[\"-x\",\"x\"],\"textfont\":{\"size\":30},\"x\":[-1.5,1.5],\"y\":[0,0],\"z\":[0,0],\"type\":\"scatter3d\"},{\"line\":{\"color\":\"black\",\"width\":10},\"mode\":\"lines+text\",\"name\":\"y-axis\",\"text\":[\"-y\",\"y\"],\"textfont\":{\"size\":30},\"x\":[0,0],\"y\":[-1.5,1.5],\"z\":[0,0],\"type\":\"scatter3d\"},{\"line\":{\"color\":\"black\",\"width\":10},\"mode\":\"lines+text\",\"name\":\"z-axis\",\"text\":[\"-z\",\"z\"],\"textfont\":{\"size\":30},\"x\":[0,0],\"y\":[0,0],\"z\":[-1.5,1.5],\"type\":\"scatter3d\"}],\"name\":\"0.50 \\u03c0\"},{\"data\":[{\"cmax\":1.0,\"cmin\":0.1791181435585022,\"colorscale\":[[0,\"rgb(0,50,255)\"],[0.5,\"rgb(200,200,200)\"],[1,\"rgb(255,50,0)\"]],\"name\":\"Equivariance\",\"opacity\":1,\"showlegend\":true,\"surfacecolor\":[[0.5376187562942505,0.24454408884048462],[0.5376187562942505,0.24922144412994385]],\"x\":[[0.0,-8.746712285808214e-08],[-0.0,3.8233092627220296e-15]],\"y\":[[0.0,-0.0],[0.0,-8.746712285808214e-08]],\"z\":[[1.0005072423606922,-1.0005072423606922],[1.0005072423606922,-1.0005072423606922]],\"type\":\"surface\"},{\"line\":{\"color\":\"purple\",\"width\":10},\"mode\":\"lines+text\",\"name\":\"Maximum equivariance\",\"showlegend\":true,\"text\":[\"\",\"(0.00, 0.00, 1.00)\"],\"textfont\":{\"color\":\"purple\",\"size\":30},\"x\":[0.0,0.0],\"y\":[0.0,0.0],\"z\":[0.900456518124623,1.5007608635410383],\"type\":\"scatter3d\"},{\"line\":{\"color\":\"brown\",\"width\":10},\"mode\":\"lines+text\",\"name\":\"Minimum equivariance\",\"showlegend\":true,\"text\":[\"\",\"(-0.00, -0.00, -1.00)\"],\"textfont\":{\"color\":\"brown\",\"size\":30},\"x\":[-7.872041057227393e-08,-1.312006842871232e-07],\"y\":[-0.0,-0.0],\"z\":[-0.900456518124623,-1.5007608635410383],\"type\":\"scatter3d\"},{\"line\":{\"color\":\"purple\",\"dash\":\"longdash\",\"width\":10},\"mode\":\"lines+text\",\"name\":\"Maximum equivariance complement\",\"showlegend\":true,\"text\":[\"\",\"(0.00, 0.00, 1.00)\"],\"textfont\":{\"color\":\"purple\",\"size\":30},\"x\":[-0.0,-0.0],\"y\":[-0.0,-0.0],\"z\":[-0.900456518124623,-1.5007608635410383],\"type\":\"scatter3d\"},{\"line\":{\"color\":\"brown\",\"dash\":\"longdash\",\"width\":10},\"mode\":\"lines+text\",\"name\":\"Minimum equivariance complement\",\"showlegend\":true,\"text\":[\"\",\"(-0.00, -0.00, -1.00)\"],\"textfont\":{\"color\":\"brown\",\"size\":30},\"x\":[7.872041057227393e-08,1.312006842871232e-07],\"y\":[0.0,0.0],\"z\":[0.900456518124623,1.5007608635410383],\"type\":\"scatter3d\"},{\"line\":{\"color\":\"black\",\"width\":10},\"mode\":\"lines+text\",\"name\":\"x-axis\",\"text\":[\"-x\",\"x\"],\"textfont\":{\"size\":30},\"x\":[-1.5,1.5],\"y\":[0,0],\"z\":[0,0],\"type\":\"scatter3d\"},{\"line\":{\"color\":\"black\",\"width\":10},\"mode\":\"lines+text\",\"name\":\"y-axis\",\"text\":[\"-y\",\"y\"],\"textfont\":{\"size\":30},\"x\":[0,0],\"y\":[-1.5,1.5],\"z\":[0,0],\"type\":\"scatter3d\"},{\"line\":{\"color\":\"black\",\"width\":10},\"mode\":\"lines+text\",\"name\":\"z-axis\",\"text\":[\"-z\",\"z\"],\"textfont\":{\"size\":30},\"x\":[0,0],\"y\":[0,0],\"z\":[-1.5,1.5],\"type\":\"scatter3d\"}],\"name\":\"0.75 \\u03c0\"},{\"data\":[{\"cmax\":1.0,\"cmin\":0.1791181435585022,\"colorscale\":[[0,\"rgb(0,50,255)\"],[0.5,\"rgb(200,200,200)\"],[1,\"rgb(255,50,0)\"]],\"name\":\"Equivariance\",\"opacity\":1,\"showlegend\":true,\"surfacecolor\":[[0.5789098143577576,0.5941771268844604],[0.5789098143577576,0.5946865677833557]],\"x\":[[0.0,-8.746712285808214e-08],[-0.0,3.8233092627220296e-15]],\"y\":[[0.0,-0.0],[0.0,-8.746712285808214e-08]],\"z\":[[1.0005072423606922,-1.0005072423606922],[1.0005072423606922,-1.0005072423606922]],\"type\":\"surface\"},{\"line\":{\"color\":\"purple\",\"width\":10},\"mode\":\"lines+text\",\"name\":\"Maximum equivariance\",\"showlegend\":true,\"text\":[\"\",\"(0.00, -0.00, -1.00)\"],\"textfont\":{\"color\":\"purple\",\"size\":30},\"x\":[3.4409783364498266e-15,5.734963894083044e-15],\"y\":[-7.872041057227393e-08,-1.312006842871232e-07],\"z\":[-0.900456518124623,-1.5007608635410383],\"type\":\"scatter3d\"},{\"line\":{\"color\":\"brown\",\"width\":10},\"mode\":\"lines+text\",\"name\":\"Minimum equivariance\",\"showlegend\":true,\"text\":[\"\",\"(0.00, 0.00, 1.00)\"],\"textfont\":{\"color\":\"brown\",\"size\":30},\"x\":[0.0,0.0],\"y\":[0.0,0.0],\"z\":[0.900456518124623,1.5007608635410383],\"type\":\"scatter3d\"},{\"line\":{\"color\":\"purple\",\"dash\":\"longdash\",\"width\":10},\"mode\":\"lines+text\",\"name\":\"Maximum equivariance complement\",\"showlegend\":true,\"text\":[\"\",\"(0.00, -0.00, -1.00)\"],\"textfont\":{\"color\":\"purple\",\"size\":30},\"x\":[-3.4409783364498266e-15,-5.734963894083044e-15],\"y\":[7.872041057227393e-08,1.312006842871232e-07],\"z\":[0.900456518124623,1.5007608635410383],\"type\":\"scatter3d\"},{\"line\":{\"color\":\"brown\",\"dash\":\"longdash\",\"width\":10},\"mode\":\"lines+text\",\"name\":\"Minimum equivariance complement\",\"showlegend\":true,\"text\":[\"\",\"(0.00, 0.00, 1.00)\"],\"textfont\":{\"color\":\"brown\",\"size\":30},\"x\":[-0.0,-0.0],\"y\":[-0.0,-0.0],\"z\":[-0.900456518124623,-1.5007608635410383],\"type\":\"scatter3d\"},{\"line\":{\"color\":\"black\",\"width\":10},\"mode\":\"lines+text\",\"name\":\"x-axis\",\"text\":[\"-x\",\"x\"],\"textfont\":{\"size\":30},\"x\":[-1.5,1.5],\"y\":[0,0],\"z\":[0,0],\"type\":\"scatter3d\"},{\"line\":{\"color\":\"black\",\"width\":10},\"mode\":\"lines+text\",\"name\":\"y-axis\",\"text\":[\"-y\",\"y\"],\"textfont\":{\"size\":30},\"x\":[0,0],\"y\":[-1.5,1.5],\"z\":[0,0],\"type\":\"scatter3d\"},{\"line\":{\"color\":\"black\",\"width\":10},\"mode\":\"lines+text\",\"name\":\"z-axis\",\"text\":[\"-z\",\"z\"],\"textfont\":{\"size\":30},\"x\":[0,0],\"y\":[0,0],\"z\":[-1.5,1.5],\"type\":\"scatter3d\"}],\"name\":\"1.00 \\u03c0\"}]);\n",
       "                        }).then(function(){\n",
       "                            \n",
       "var gd = document.getElementById('99aa8fbd-b1a5-4197-9830-18bdaa06bc24');\n",
       "var x = new MutationObserver(function (mutations, observer) {{\n",
       "        var display = window.getComputedStyle(gd).display;\n",
       "        if (!display || display === 'none') {{\n",
       "            console.log([gd, 'removed!']);\n",
       "            Plotly.purge(gd);\n",
       "            observer.disconnect();\n",
       "        }}\n",
       "}});\n",
       "\n",
       "// Listen for the removal of the full notebook cells\n",
       "var notebookContainer = gd.closest('#notebook-container');\n",
       "if (notebookContainer) {{\n",
       "    x.observe(notebookContainer, {childList: true});\n",
       "}}\n",
       "\n",
       "// Listen for the clearing of the current output cell\n",
       "var outputEl = gd.closest('.output');\n",
       "if (outputEl) {{\n",
       "    x.observe(outputEl, {childList: true});\n",
       "}}\n",
       "\n",
       "                        })                };                });            </script>        </div>"
      ]
     },
     "metadata": {},
     "output_type": "display_data"
    },
    {
     "name": "stdout",
     "output_type": "stream",
     "text": [
      "kidney-right\n"
     ]
    },
    {
     "name": "stderr",
     "output_type": "stream",
     "text": [
      "Exception ignored in: <function _MultiProcessingDataLoaderIter.__del__ at 0x7eff7b0d4c10>\n",
      "Traceback (most recent call last):\n",
      "  File \"/home/lars/miniconda3/envs/thesis/lib/python3.10/site-packages/torch/utils/data/dataloader.py\", line 1479, in __del__\n",
      "    self._shutdown_workers()\n",
      "  File \"/home/lars/miniconda3/envs/thesis/lib/python3.10/site-packages/torch/utils/data/dataloader.py\", line 1443, in _shutdown_workers\n",
      "    w.join(timeout=_utils.MP_STATUS_CHECK_INTERVAL)\n",
      "  File \"/home/lars/miniconda3/envs/thesis/lib/python3.10/multiprocessing/process.py\", line 149, in join\n",
      "    res = self._popen.wait(timeout)\n",
      "  File \"/home/lars/miniconda3/envs/thesis/lib/python3.10/multiprocessing/popen_fork.py\", line 40, in wait\n",
      "    if not wait([self.sentinel], timeout):\n",
      "  File \"/home/lars/miniconda3/envs/thesis/lib/python3.10/multiprocessing/connection.py\", line 931, in wait\n",
      "    ready = selector.select(timeout)\n",
      "  File \"/home/lars/miniconda3/envs/thesis/lib/python3.10/selectors.py\", line 416, in select\n",
      "    fd_event_list = self._selector.poll(timeout)\n",
      "KeyboardInterrupt: \n"
     ]
    }
   ],
   "source": [
    "# Entire model try 2\n",
    "log_equivariance_error2(model, loader, irrepmaps)"
   ]
  },
  {
   "cell_type": "code",
   "execution_count": null,
   "metadata": {},
   "outputs": [],
   "source": []
  }
 ],
 "metadata": {
  "kernelspec": {
   "display_name": "dl2021",
   "language": "python",
   "name": "python3"
  },
  "language_info": {
   "codemirror_mode": {
    "name": "ipython",
    "version": 3
   },
   "file_extension": ".py",
   "mimetype": "text/x-python",
   "name": "python",
   "nbconvert_exporter": "python",
   "pygments_lexer": "ipython3",
   "version": "3.10.10"
  },
  "orig_nbformat": 4
 },
 "nbformat": 4,
 "nbformat_minor": 2
}
